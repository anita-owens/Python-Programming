{
 "cells": [
  {
   "cell_type": "code",
   "execution_count": 1,
   "id": "26b86b56",
   "metadata": {},
   "outputs": [
    {
     "name": "stdout",
     "output_type": "stream",
     "text": [
      "Your airline ticket to Pittsburgh will cost 222 dollars\n"
     ]
    }
   ],
   "source": [
    "city = str(input('Enter city:'))\n",
    "def plane_ride_cost(city):\n",
    "    if city == \"Charlotte\":\n",
    "        return 183\n",
    "    elif city == \"Tampa\" :\n",
    "        return 220\n",
    "    elif city == \"Pittsburgh\":\n",
    "        return 222\n",
    "    elif city == \"Los Angeles\":\n",
    "        return 475\n",
    "    elif city == \"Jacksonville\":\n",
    "        return 175\n",
    "    else:\n",
    "        print('Not valid city')\n",
    "        exit()\n",
    "print(\"Your airline ticket to\", city, \"will cost\", plane_ride_cost(city), \"dollars\")"
   ]
  },
  {
   "cell_type": "code",
   "execution_count": 2,
   "id": "a5078ba7",
   "metadata": {},
   "outputs": [
    {
     "name": "stdout",
     "output_type": "stream",
     "text": [
      "The total cost of your rental car will be 230 dollars\n"
     ]
    }
   ],
   "source": [
    "days = int(float(input('Enter how many days you will rent the car:')))\n",
    "def rental_car_cost(days):\n",
    "    if days >= 7:\n",
    "        return (days*40) - (50)\n",
    "    elif days  >= 3:\n",
    "        return (days*40) - (20)\n",
    "    else:\n",
    "        return (days*40)\n",
    "print(\"The total cost of your rental car will be\", rental_car_cost(days), \"dollars\")"
   ]
  },
  {
   "cell_type": "code",
   "execution_count": 3,
   "id": "c0330313",
   "metadata": {},
   "outputs": [
    {
     "name": "stdout",
     "output_type": "stream",
     "text": [
      "Your overall total trip costs will be 1482.0 dollars\n"
     ]
    }
   ],
   "source": [
    "spending_money = float(input('Enter how much in extras or how much spending money will you keep on hand:'))\n",
    "def trip_cost(city,days,spending_money):\n",
    "    return plane_ride_cost(city) + days*140 + rental_car_cost(days) + spending_money\n",
    "print(\"Your overall total trip costs will be\", trip_cost(city,days,spending_money), \"dollars\")\n",
    "#print trip_cost(\"Los Angeles\",5,600)"
   ]
  }
 ],
 "metadata": {
  "kernelspec": {
   "display_name": "Python 3.7.9 64-bit",
   "language": "python",
   "name": "python3"
  },
  "language_info": {
   "codemirror_mode": {
    "name": "ipython",
    "version": 3
   },
   "file_extension": ".py",
   "mimetype": "text/x-python",
   "name": "python",
   "nbconvert_exporter": "python",
   "pygments_lexer": "ipython3",
   "version": "3.7.9"
  },
  "vscode": {
   "interpreter": {
    "hash": "aee8b7b246df8f9039afb4144a1f6fd8d2ca17a180786b69acc140d282b71a49"
   }
  }
 },
 "nbformat": 4,
 "nbformat_minor": 5
}
