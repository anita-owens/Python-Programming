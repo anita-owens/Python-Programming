{
 "cells": [
  {
   "cell_type": "code",
   "execution_count": 11,
   "id": "259cf018",
   "metadata": {},
   "outputs": [
    {
     "name": "stdout",
     "output_type": "stream",
     "text": [
      "Enter Hours:10\n",
      "Enter rate:10\n",
      "100.0\n",
      "100.0\n"
     ]
    }
   ],
   "source": [
    "hours = float(input(\"Enter Hours:\"))\n",
    "rate = float(input(\"Enter rate:\"))\n",
    "if hours <= 40:\n",
    "    gross_pay=float(hours) * float(rate)\n",
    "    print(gross_pay)\n",
    "\n",
    "elif hours > 40:\n",
    "    gross_pay =float(hours) * ((1.5)*float(rate))\n",
    "\n",
    "\n",
    "print(gross_pay) "
   ]
  }
 ],
 "metadata": {
  "kernelspec": {
   "display_name": "Python 3 (ipykernel)",
   "language": "python",
   "name": "python3"
  },
  "language_info": {
   "codemirror_mode": {
    "name": "ipython",
    "version": 3
   },
   "file_extension": ".py",
   "mimetype": "text/x-python",
   "name": "python",
   "nbconvert_exporter": "python",
   "pygments_lexer": "ipython3",
   "version": "3.9.7"
  }
 },
 "nbformat": 4,
 "nbformat_minor": 5
}
