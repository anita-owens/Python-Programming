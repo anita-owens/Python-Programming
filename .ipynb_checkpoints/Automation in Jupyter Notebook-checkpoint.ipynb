{
 "cells": [
  {
   "cell_type": "markdown",
   "id": "a84aadc1",
   "metadata": {},
   "source": [
    "http://theautomatic.net/2020/11/18/how-to-schedule-a-python-script-on-a-mac/"
   ]
  },
  {
   "cell_type": "markdown",
   "id": "e607e8a9",
   "metadata": {},
   "source": [
    "# Crontab on Mac"
   ]
  },
  {
   "cell_type": "code",
   "execution_count": null,
   "id": "ef37899b",
   "metadata": {},
   "outputs": [],
   "source": [
    "#Example 1: Run script on the first day of each month at 8:00.\n",
    "0 8 1 * * python /Users/anitaowens/Documents/GitHub/Python-Programming/choose_random_name.py"
   ]
  },
  {
   "cell_type": "code",
   "execution_count": null,
   "id": "e5005ccc",
   "metadata": {},
   "outputs": [],
   "source": [
    "#How to list all active con jobs\n",
    "crontab -l"
   ]
  },
  {
   "cell_type": "markdown",
   "id": "f451a919",
   "metadata": {},
   "source": [
    "# Schedule package"
   ]
  },
  {
   "cell_type": "code",
   "execution_count": null,
   "id": "f5965e5b",
   "metadata": {},
   "outputs": [],
   "source": [
    "import schedule\n",
    " \n",
    "def test():\n",
    "    print(\"Test this out!\")\n",
    " \n",
    "schedule.every(10).seconds.do(test)\n",
    " \n",
    "while True:\n",
    "    schedule.run_pending()"
   ]
  },
  {
   "cell_type": "code",
   "execution_count": null,
   "id": "ee239c23",
   "metadata": {},
   "outputs": [],
   "source": [
    "schedule.clear()"
   ]
  }
 ],
 "metadata": {
  "kernelspec": {
   "display_name": "Python 3 (ipykernel)",
   "language": "python",
   "name": "python3"
  },
  "language_info": {
   "codemirror_mode": {
    "name": "ipython",
    "version": 3
   },
   "file_extension": ".py",
   "mimetype": "text/x-python",
   "name": "python",
   "nbconvert_exporter": "python",
   "pygments_lexer": "ipython3",
   "version": "3.9.7"
  }
 },
 "nbformat": 4,
 "nbformat_minor": 5
}
