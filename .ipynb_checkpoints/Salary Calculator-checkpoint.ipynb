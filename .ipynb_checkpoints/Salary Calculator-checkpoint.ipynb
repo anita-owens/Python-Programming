{
 "cells": [
  {
   "cell_type": "code",
   "execution_count": 11,
   "id": "259cf018",
   "metadata": {},
   "outputs": [
    {
     "name": "stdout",
     "output_type": "stream",
     "text": [
      "Enter Hours:10\n",
      "Enter rate:10\n",
      "100.0\n",
      "100.0\n"
     ]
    }
   ],
   "source": [
    "hours = float(input(\"Enter Hours:\"))\n",
    "rate = float(input(\"Enter rate:\"))\n",
    "if hours <= 40:\n",
    "    gross_pay=float(hours) * float(rate)\n",
    "    print(gross_pay)\n",
    "\n",
    "elif hours > 40:\n",
    "    gross_pay =float(hours) * ((1.5)*float(rate))\n",
    "\n",
    "\n",
    "print(gross_pay) "
   ]
  },
  {
   "cell_type": "code",
   "execution_count": 1,
   "id": "2c7ddb02",
   "metadata": {},
   "outputs": [
    {
     "name": "stdout",
     "output_type": "stream",
     "text": [
      "Input total number of hours worked in a week:30\n",
      "YOU MADE 240 DOLLARS THIS WEEK\n"
     ]
    }
   ],
   "source": [
    "n = int(input(\"Input total number of hours worked in a week:\"))\n",
    "rate=8\n",
    "\n",
    "if n >168 or n < 0:\n",
    "    print (\"INVALID\")\n",
    "\n",
    "elif n <=40 :\n",
    "    pay = rate * n\n",
    "    print (\"YOU MADE\", pay, \"DOLLARS THIS WEEK\")\n",
    "    \n",
    "elif n >= 41 and n <=50:\n",
    "    pay = (40 * rate) + ((n - 40) * (9))\n",
    "    print (\"YOU MADE\", pay, \"DOLLARS THIS WEEK\")\n",
    "\n",
    "elif n>=51 and n <=168:\n",
    "    pay = (40 * rate) + (10 * 9) + ((n - 50) * 10)\n",
    "    print (\"YOU MADE\", pay, \"DOLLARS THIS WEEK\")"
   ]
  }
 ],
 "metadata": {
  "kernelspec": {
   "display_name": "Python 3 (ipykernel)",
   "language": "python",
   "name": "python3"
  },
  "language_info": {
   "codemirror_mode": {
    "name": "ipython",
    "version": 3
   },
   "file_extension": ".py",
   "mimetype": "text/x-python",
   "name": "python",
   "nbconvert_exporter": "python",
   "pygments_lexer": "ipython3",
   "version": "3.9.7"
  }
 },
 "nbformat": 4,
 "nbformat_minor": 5
}
