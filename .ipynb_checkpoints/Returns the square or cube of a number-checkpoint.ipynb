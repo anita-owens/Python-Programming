{
 "cells": [
  {
   "cell_type": "markdown",
   "id": "9ec5aec5",
   "metadata": {},
   "source": [
    "# Returns the square of a number"
   ]
  },
  {
   "cell_type": "code",
   "execution_count": 8,
   "id": "89ec9955",
   "metadata": {},
   "outputs": [],
   "source": [
    "def square(n):\n",
    "    #Returns the square of a number.\n",
    "    squared = n**2\n",
    "    print(\"%d squared is %d.\" % (n, squared))"
   ]
  },
  {
   "cell_type": "code",
   "execution_count": 9,
   "id": "683f9d6a",
   "metadata": {},
   "outputs": [
    {
     "name": "stdout",
     "output_type": "stream",
     "text": [
      "10 squared is 100.\n"
     ]
    }
   ],
   "source": [
    "square(10)"
   ]
  },
  {
   "cell_type": "code",
   "execution_count": 10,
   "id": "42d612f4",
   "metadata": {},
   "outputs": [
    {
     "name": "stdout",
     "output_type": "stream",
     "text": [
      "2 squared is 4.\n"
     ]
    }
   ],
   "source": [
    "square(2)"
   ]
  },
  {
   "cell_type": "markdown",
   "id": "a35e30d2",
   "metadata": {},
   "source": [
    "# Returns the cube of a number"
   ]
  },
  {
   "cell_type": "code",
   "execution_count": 11,
   "id": "85b56673",
   "metadata": {},
   "outputs": [
    {
     "name": "stdout",
     "output_type": "stream",
     "text": [
      "number:3\n",
      "27\n"
     ]
    }
   ],
   "source": [
    "#using modulus operator, %\n",
    "inp = input(\"number:\")\n",
    "number = int(inp)\n",
    "def cube(number):\n",
    "    return number*number*number\n",
    "def by_three(number):\n",
    "    if number % 3==0:\n",
    "        return cube(number)\n",
    "    else:\n",
    "        return False\n",
    "#print cube(number)\n",
    "print(by_three(number))"
   ]
  },
  {
   "cell_type": "code",
   "execution_count": 12,
   "id": "3a2f08b9",
   "metadata": {},
   "outputs": [
    {
     "name": "stdout",
     "output_type": "stream",
     "text": [
      "Enter number:5\n",
      "Nope\n"
     ]
    }
   ],
   "source": [
    "num = input('Enter number:')\n",
    "def distance_from_zero(num):\n",
    "    if type(num) == int or type(num) == float:\n",
    "        return abs(num)\n",
    "    else:\n",
    "        return \"Nope\"\n",
    "print(distance_from_zero(num))"
   ]
  },
  {
   "cell_type": "code",
   "execution_count": null,
   "id": "a0d020b2",
   "metadata": {},
   "outputs": [],
   "source": []
  }
 ],
 "metadata": {
  "kernelspec": {
   "display_name": "Python 3 (ipykernel)",
   "language": "python",
   "name": "python3"
  },
  "language_info": {
   "codemirror_mode": {
    "name": "ipython",
    "version": 3
   },
   "file_extension": ".py",
   "mimetype": "text/x-python",
   "name": "python",
   "nbconvert_exporter": "python",
   "pygments_lexer": "ipython3",
   "version": "3.9.7"
  }
 },
 "nbformat": 4,
 "nbformat_minor": 5
}
