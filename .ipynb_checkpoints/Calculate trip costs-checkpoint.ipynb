{
 "cells": [
  {
   "cell_type": "code",
   "execution_count": 2,
   "id": "26b86b56",
   "metadata": {},
   "outputs": [
    {
     "name": "stdout",
     "output_type": "stream",
     "text": [
      "Enter city:Tampa\n",
      "220\n"
     ]
    }
   ],
   "source": [
    "city = str(input('Enter city:'))\n",
    "def plane_ride_cost(city):\n",
    "    if city == \"Charlotte\":\n",
    "        return 183\n",
    "    elif city == \"Tampa\" :\n",
    "        return 220\n",
    "    elif city == \"Pittsburgh\":\n",
    "        return 222\n",
    "    elif city == \"Los Angeles\":\n",
    "        return 475\n",
    "    else:\n",
    "        print('Not valid city')\n",
    "        exit()\n",
    "print(plane_ride_cost(city))"
   ]
  },
  {
   "cell_type": "code",
   "execution_count": 6,
   "id": "a5078ba7",
   "metadata": {},
   "outputs": [
    {
     "name": "stdout",
     "output_type": "stream",
     "text": [
      "Enter how many days you will rent the car:5\n",
      "Total Cost of rental care will be 180 dollars\n"
     ]
    }
   ],
   "source": [
    "days = int(float(input('Enter how many days you will rent the car:')))\n",
    "def rental_car_cost(days):\n",
    "    if days >= 7:\n",
    "        return (days*40) - (50)\n",
    "    elif days  >= 3:\n",
    "        return (days*40) - (20)\n",
    "    else:\n",
    "        return (days*40)\n",
    "print(\"Total Cost of rental car will be\", rental_car_cost(days), \"dollars\")"
   ]
  },
  {
   "cell_type": "code",
   "execution_count": 8,
   "id": "c0330313",
   "metadata": {},
   "outputs": [
    {
     "name": "stdout",
     "output_type": "stream",
     "text": [
      "Enter how much in extras:5\n",
      "Your total costs will be 1105.0 dollars\n"
     ]
    }
   ],
   "source": [
    "spending_money = float(input('Enter how much in extras:'))\n",
    "def trip_cost(city,days,spending_money):\n",
    "    return plane_ride_cost(city) + days*140 + rental_car_cost(days) + spending_money\n",
    "print(\"Your total costs will be\", trip_cost(city,days,spending_money), \"dollars\")\n",
    "#print trip_cost(\"Los Angeles\",5,600)"
   ]
  }
 ],
 "metadata": {
  "kernelspec": {
   "display_name": "Python 3 (ipykernel)",
   "language": "python",
   "name": "python3"
  },
  "language_info": {
   "codemirror_mode": {
    "name": "ipython",
    "version": 3
   },
   "file_extension": ".py",
   "mimetype": "text/x-python",
   "name": "python",
   "nbconvert_exporter": "python",
   "pygments_lexer": "ipython3",
   "version": "3.9.7"
  }
 },
 "nbformat": 4,
 "nbformat_minor": 5
}
