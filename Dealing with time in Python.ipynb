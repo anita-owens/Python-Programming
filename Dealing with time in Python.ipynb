{
 "cells": [
  {
   "cell_type": "code",
   "execution_count": 1,
   "id": "5e359477",
   "metadata": {},
   "outputs": [],
   "source": [
    "class Time(object):\n",
    "    \"\"\"Represents the time of day.\n",
    "       \n",
    "    attributes: hour, minute, second\n",
    "    \"\"\""
   ]
  },
  {
   "cell_type": "code",
   "execution_count": 2,
   "id": "dfb3557c",
   "metadata": {},
   "outputs": [],
   "source": [
    "def print_time(t):\n",
    "    print('%.2d:%.2d:%.2d' % (t.hour, t.minute, t.second))"
   ]
  },
  {
   "cell_type": "code",
   "execution_count": null,
   "id": "0f253aa9",
   "metadata": {},
   "outputs": [],
   "source": [
    "def int_to_time(seconds):\n",
    "    \"\"\"Makes a new Time object.\n",
    "    seconds: int seconds since midnight.\n",
    "    \"\"\"\n",
    "    time = Time()\n",
    "    minutes, time.second = divmod(seconds, 60)\n",
    "    time.hour, time.minute = divmod(minutes, 60)\n",
    "    return time"
   ]
  },
  {
   "cell_type": "code",
   "execution_count": null,
   "id": "e927f2df",
   "metadata": {},
   "outputs": [],
   "source": [
    "def time_to_int(time):\n",
    "    \"\"\"Computes the number of seconds since midnight.\n",
    "    time: Time object.\n",
    "    \"\"\"\n",
    "    minutes = time.hour * 60 + time.minute\n",
    "    seconds = minutes * 60 + time.second\n",
    "    return seconds"
   ]
  },
  {
   "cell_type": "code",
   "execution_count": null,
   "id": "2602fa1b",
   "metadata": {},
   "outputs": [],
   "source": [
    "def add_times(t1, t2):\n",
    "    \"\"\"Adds two time objects.\"\"\"\n",
    "    assert valid_time(t1) and valid_time(t2)\n",
    "    seconds = time_to_int(t1) + time_to_int(t2)\n",
    "    return int_to_time(seconds)"
   ]
  },
  {
   "cell_type": "code",
   "execution_count": null,
   "id": "2c04e9be",
   "metadata": {},
   "outputs": [],
   "source": [
    "def valid_time(time):\n",
    "    \"\"\"Checks whether a Time object satisfies the invariants.\"\"\"\n",
    "    if time.hour < 0 or time.minute < 0 or time.second < 0:\n",
    "        return False\n",
    "    if time.minute >= 60 or time.second >= 60:\n",
    "        return False\n",
    "    return True"
   ]
  },
  {
   "cell_type": "code",
   "execution_count": null,
   "id": "a80bd48a",
   "metadata": {},
   "outputs": [],
   "source": [
    "def main():\n",
    "    # if a movie starts at noon...\n",
    "    noon_time = Time()\n",
    "    noon_time.hour = 12\n",
    "    noon_time.minute = 0\n",
    "    noon_time.second = 0\n",
    "\n",
    "    print 'Starts at',\n",
    "    print_time(noon_time)\n",
    "\n",
    "    # and the run time of the movie is 109 minutes...\n",
    "    movie_minutes = 109\n",
    "    run_time = int_to_time(movie_minutes * 60)\n",
    "    print 'Run time',\n",
    "    print_time(run_time)\n",
    "\n",
    "    # what time does the movie end?\n",
    "    end_time = add_times(noon_time, run_time)\n",
    "    print 'Ends at',\n",
    "    print_time(end_time)\n",
    "\n",
    "if __name__ == '__main__':\n",
    "    main()"
   ]
  },
  {
   "cell_type": "code",
   "execution_count": null,
   "id": "6cbd52d3",
   "metadata": {},
   "outputs": [],
   "source": []
  }
 ],
 "metadata": {
  "kernelspec": {
   "display_name": "Python 3 (ipykernel)",
   "language": "python",
   "name": "python3"
  },
  "language_info": {
   "codemirror_mode": {
    "name": "ipython",
    "version": 3
   },
   "file_extension": ".py",
   "mimetype": "text/x-python",
   "name": "python",
   "nbconvert_exporter": "python",
   "pygments_lexer": "ipython3",
   "version": "3.7.9"
  }
 },
 "nbformat": 4,
 "nbformat_minor": 5
}
