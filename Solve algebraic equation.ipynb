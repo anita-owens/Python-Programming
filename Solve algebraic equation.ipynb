{
 "cells": [
  {
   "cell_type": "code",
   "execution_count": 4,
   "id": "659b9430",
   "metadata": {},
   "outputs": [
    {
     "name": "stdout",
     "output_type": "stream",
     "text": [
      "The the value of y after evaluating the expression y=x2−12x+11 with the value of x as 2 equals -9 .\n"
     ]
    }
   ],
   "source": [
    "#Write a program that asks the user for an integer 'x' and prints\n",
    "#the value of y after evaluating the following expression y=x2−12x+11:\n",
    "x= int(input(\"Input any integer:\"))\n",
    "y= (x**2) - (12*x) + (11)\n",
    "print(\"The the value of y after evaluating the expression y=x2−12x+11 with the value of x as\", x, \"equals\", y)"
   ]
  },
  {
   "cell_type": "code",
   "execution_count": null,
   "id": "d82a551b",
   "metadata": {},
   "outputs": [],
   "source": []
  }
 ],
 "metadata": {
  "kernelspec": {
   "display_name": "Python 3.7.9 64-bit",
   "language": "python",
   "name": "python3"
  },
  "language_info": {
   "codemirror_mode": {
    "name": "ipython",
    "version": 3
   },
   "file_extension": ".py",
   "mimetype": "text/x-python",
   "name": "python",
   "nbconvert_exporter": "python",
   "pygments_lexer": "ipython3",
   "version": "3.7.9"
  },
  "vscode": {
   "interpreter": {
    "hash": "aee8b7b246df8f9039afb4144a1f6fd8d2ca17a180786b69acc140d282b71a49"
   }
  }
 },
 "nbformat": 4,
 "nbformat_minor": 5
}
