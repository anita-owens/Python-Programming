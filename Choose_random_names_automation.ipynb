{
 "cells": [
  {
   "cell_type": "code",
   "execution_count": 14,
   "id": "550db8ef",
   "metadata": {},
   "outputs": [],
   "source": [
    "import random"
   ]
  },
  {
   "cell_type": "code",
   "execution_count": 15,
   "id": "146f4b70",
   "metadata": {},
   "outputs": [],
   "source": [
    "def ChooseTwice(items):\n",
    "    a = random.choice(items)\n",
    "    b = random.choice(items)\n",
    "    return a, b"
   ]
  },
  {
   "cell_type": "code",
   "execution_count": 16,
   "id": "1db67001",
   "metadata": {},
   "outputs": [],
   "source": [
    "names = [\"Alice\", \"Bob\", \"Charlie\", \"Debra\", \"Peter\", \"Cora\"]"
   ]
  },
  {
   "cell_type": "code",
   "execution_count": 17,
   "id": "68978a78",
   "metadata": {},
   "outputs": [
    {
     "name": "stdout",
     "output_type": "stream",
     "text": [
      "Debra likes Alice!\n"
     ]
    }
   ],
   "source": [
    "(one, two) = ChooseTwice(names)\n",
    "if one == two:\n",
    "    print(\"%s is happy!\" % one)\n",
    "else:\n",
    "    print(\"%s likes %s!\" % (one, two))"
   ]
  },
  {
   "cell_type": "code",
   "execution_count": 18,
   "id": "0370be12",
   "metadata": {},
   "outputs": [],
   "source": [
    "#Write and append results to a text file\n",
    "with open('file.txt','a') as f:\n",
    "    (one, two) = ChooseTwice(names)\n",
    "    if one == two:\n",
    "        print(\"%s is happy!\" % one, file=f)\n",
    "    else:\n",
    "        print(\"%s likes %s!\" % (one, two), file=f)"
   ]
  }
 ],
 "metadata": {
  "kernelspec": {
   "display_name": "Python 3 (ipykernel)",
   "language": "python",
   "name": "python3"
  },
  "language_info": {
   "codemirror_mode": {
    "name": "ipython",
    "version": 3
   },
   "file_extension": ".py",
   "mimetype": "text/x-python",
   "name": "python",
   "nbconvert_exporter": "python",
   "pygments_lexer": "ipython3",
   "version": "3.9.7"
  }
 },
 "nbformat": 4,
 "nbformat_minor": 5
}
