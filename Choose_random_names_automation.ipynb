{
 "cells": [
  {
   "cell_type": "code",
   "execution_count": 1,
   "id": "550db8ef",
   "metadata": {},
   "outputs": [],
   "source": [
    "import random\n",
    "import os\n",
    "from datetime import date\n",
    "from datetime import datetime"
   ]
  },
  {
   "cell_type": "code",
   "execution_count": 2,
   "id": "146f4b70",
   "metadata": {},
   "outputs": [],
   "source": [
    "def ChooseTwice(items):\n",
    "    a = random.choice(items)\n",
    "    b = random.choice(items)\n",
    "    return a, b"
   ]
  },
  {
   "cell_type": "code",
   "execution_count": 3,
   "id": "1db67001",
   "metadata": {},
   "outputs": [],
   "source": [
    "names = [\"Alice\", \"Bob\", \"Charlie\", \"Debra\", \"Peter\", \"Cora\"]"
   ]
  },
  {
   "cell_type": "code",
   "execution_count": 4,
   "id": "f67b1acd",
   "metadata": {},
   "outputs": [],
   "source": [
    "today = date.today()\n",
    "dt = datetime.now()"
   ]
  },
  {
   "cell_type": "code",
   "execution_count": 5,
   "id": "68978a78",
   "metadata": {},
   "outputs": [
    {
     "name": "stdout",
     "output_type": "stream",
     "text": [
      "Alice likes Peter! 2022-08-25 20:38:03.761422\n"
     ]
    }
   ],
   "source": [
    "(one, two) = ChooseTwice(names)\n",
    "if one == two:\n",
    "    print(\"%s is happy!\" % one, dt)\n",
    "else:\n",
    "    print(\"%s likes %s!\" % (one, two), dt)"
   ]
  },
  {
   "cell_type": "code",
   "execution_count": 6,
   "id": "77e8899a",
   "metadata": {},
   "outputs": [],
   "source": [
    "#Write and append results to a text file\n",
    "with open('file.txt','a') as f:\n",
    "    (one, two) = ChooseTwice(names)\n",
    "    if one == two:\n",
    "        print(\"%s is happy!\" % one, dt, file=f)\n",
    "    else:\n",
    "        print(\"%s likes %s!\" % (one, two), dt, file=f)"
   ]
  },
  {
   "cell_type": "code",
   "execution_count": 7,
   "id": "9c992b6f",
   "metadata": {},
   "outputs": [],
   "source": [
    "currentDirectory = os.getcwd()"
   ]
  }
 ],
 "metadata": {
  "kernelspec": {
   "display_name": "Python 3 (ipykernel)",
   "language": "python",
   "name": "python3"
  },
  "language_info": {
   "codemirror_mode": {
    "name": "ipython",
    "version": 3
   },
   "file_extension": ".py",
   "mimetype": "text/x-python",
   "name": "python",
   "nbconvert_exporter": "python",
   "pygments_lexer": "ipython3",
   "version": "3.9.7"
  }
 },
 "nbformat": 4,
 "nbformat_minor": 5
}
