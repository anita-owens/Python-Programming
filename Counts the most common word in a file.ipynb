{
 "cells": [
  {
   "cell_type": "markdown",
   "id": "c17f448a",
   "metadata": {},
   "source": [
    "Install termcolor package from the command line\n",
    "\n",
    "pip install termcolor"
   ]
  },
  {
   "cell_type": "code",
   "execution_count": 10,
   "id": "8bab1ea1",
   "metadata": {},
   "outputs": [],
   "source": [
    "from termcolor import colored"
   ]
  },
  {
   "cell_type": "code",
   "execution_count": 1,
   "id": "188459df",
   "metadata": {},
   "outputs": [
    {
     "name": "stdout",
     "output_type": "stream",
     "text": [
      "Enter file:\n"
     ]
    }
   ],
   "source": [
    "#I want to create program that will catalog all words in a file\n",
    "name = input('Enter file:')\n",
    "if len(name) < 1 : name = \"text files/prob.txt\"\n",
    "handle = open(name,'r')\n",
    "text = handle.read()\n",
    "words = text.split()"
   ]
  },
  {
   "cell_type": "code",
   "execution_count": 3,
   "id": "2e95cd03",
   "metadata": {},
   "outputs": [
    {
     "name": "stdout",
     "output_type": "stream",
     "text": [
      "{'SPEAKER:': 1, 'MICHAEL': 1, 'J.': 1, 'MAHOMETA,': 1, 'Ph.D.': 1, \"We've\": 1, 'seen': 1, 'how': 3, 'to': 11, 'determine': 3, 'our': 8, 'conditional': 6, 'probabilities': 3, 'from': 1, 'a': 23, 'contingency': 1, 'table,': 1, 'and': 6, 'use': 2, 'those': 2, 'in': 10, 'conjunction': 1, 'with': 5, 'marginal': 1, 'distribution': 1, 'if': 4, 'there': 1, 'is': 19, 'fact': 3, 'relationship': 1, 'between': 1, 'two': 3, 'categorical': 1, 'variables.': 1, 'But': 2, 'what': 2, 'you': 12, \"didn't\": 1, 'have': 9, 'the': 51, 'probabilities?': 1, 'What': 1, 'had': 2, 'instead': 1, 'occurrence': 1, 'rates': 1, 'of': 30, 'an': 2, 'event?': 1, 'Could': 1, 'work': 2, 'backwards': 1, 'find': 1, 'reverse': 3, 'probability?': 1, \"Let's\": 4, 'put': 1, 'this': 4, 'into': 1, 'context.': 1, 'Have': 1, 'every': 1, 'medical': 2, 'test?': 1, 'Or': 1, 'do': 2, 'know': 1, 'anyone': 1, 'who': 1, 'has?': 1, 'Maybe': 1, 'test': 17, 'for': 7, 'heart': 1, 'disease': 14, 'or': 2, 'cancer?': 1, 'Suppose': 1, 'get': 4, 'results': 2, 'that': 13, 'are': 6, 'positive': 16, 'disease.': 6, 'How': 1, 'should': 1, 'react?': 1, 'A': 1, 'probability': 18, '-': 11, 'specifically': 1, 'tree': 1, 'can': 4, 'help': 2, 'us': 2, 'make': 2, 'sense': 1, 'results.': 2, 'go': 1, 'ahead': 1, 'again': 1, 'start': 1, 'basic': 2, 'question.': 1, 'Before': 1, 'we': 8, 'started,': 1, \"there're\": 1, 'some': 1, 'things': 1, 'need': 1, 'know.': 1, 'Medical': 2, 'tests': 2, 'designed': 2, 'be': 3, 'good': 3, 'at': 2, 'Sensitivity,': 2, 'which': 2, 'testing': 9, 'given': 6, 'presence': 4, 'Imagine': 1, \"you're\": 1, 'room': 1, '100': 1, 'people,': 1, 'they': 2, 'all': 3, 'specific': 1, 'If': 2, 'your': 2, 'confirms': 1, '93': 1, 'them': 2, 'disease,': 3, 'then': 1, '93%': 1, 'Sensitive': 1, 'has': 2, 'Sensitivity': 3, 'rate': 2, '93%.': 1, 'also': 1, 'Specificity:': 1, 'negative': 3, 'when': 3, 'not': 3, 'present.': 1, 'Now,': 2, 'might': 1, 'thinking': 1, 'Wait': 1, 'second,': 1, \"that's\": 3, 'I': 1, 'want': 1, 'actual': 1, 'question': 2, 'actually': 5, 'reverse:': 1, \"what's\": 1, 'having': 5, 'result.': 3, 'Your': 1, 'doctor': 1, \"doesn't\": 2, 'come': 1, 'say': 3, '\"you': 1, 'disease.\"': 2, 'Instead': 1, '\"you\\'ve': 1, 'tested': 3, 'Now': 3, 'big': 1, 'difference.': 1, 'As': 1, \"we'll\": 3, 'see,': 1, 'guarantee': 1, 'assume': 1, \"we've\": 1, 'Lyme': 5, 'Disease.': 1, \"It's\": 1, 'fairly': 1, 'rare': 1, 'so': 1, 'percent': 1, 'incidence': 2, '1%': 2, 'population.': 2, 'The': 4, 'ELISA': 1, 'used': 1, 'Disease': 1, 'about': 1, '88.6%.': 2, 'And': 3, 'Specificity': 2, '98.9%.': 2, 'We': 1, 'these': 2, 'values': 1, 'tree.': 2, 'First,': 1, 'initial': 1, 'branches': 2, 'Here,': 1, 'population': 1, '99%': 1, 'not.': 1, 'add': 1, 'corresponding': 2, 'each': 1, 'possibilities.': 1, 'So': 2, '11.4%.': 1, 'other': 1, 'branches.': 1, 'present': 2, 'That': 2, 'makes': 1, '1.1%': 1, 'out': 1, '\"AND\"': 1, 'probabilities.': 2, 'AND': 2, '0.00886.': 1, 'Here': 3, 'remaining': 1, 'Remember': 1, 'question:': 1, \"What's\": 1, \"you've\": 2, 'positive?': 1, 'ways': 1, 'their': 1, 'sum': 1, 'disjoint': 1, 'values,': 1, 'getting': 1, 'test.': 1, 'only': 2, 'one': 1, 'because': 1, 'solve': 1, 'ratio.': 1, 'see': 1, 'proportion': 1, 'due': 1, 'same': 1, 'as': 1, \"That's\": 1, \"we're\": 1, 'looking': 1, 'for.': 1, \"it's\": 2, 'pretty': 1, 'news:': 1, '44.9%.': 2, 'means,': 1, 'even': 2, 'result,': 1, 'case': 1, \"There's\": 1, 'more': 1, 'than': 1, '50%': 1, \"don't\": 1, 'though': 1, 'received': 1, 'handle': 1, 'on': 1}\n"
     ]
    }
   ],
   "source": [
    "counts = dict()\n",
    "for word in words:\n",
    "    counts[word] = counts.get(word,0) + 1\n",
    "print(counts)"
   ]
  },
  {
   "cell_type": "code",
   "execution_count": 19,
   "id": "1ae8e750",
   "metadata": {},
   "outputs": [
    {
     "name": "stdout",
     "output_type": "stream",
     "text": [
      "the most common word is the word \u001b[1mthe\u001b[0m and it appears \u001b[1m51\u001b[0m times.\n"
     ]
    }
   ],
   "source": [
    "bigcount = None\n",
    "bigword = None\n",
    "for word,count in counts.items():\n",
    "    if bigcount is None or count > bigcount:\n",
    "        bigword = word\n",
    "        bigcount = count\n",
    "#print(\"the most common word is the word\",'\\033[1m' bigword '\\033[0m',\"and it appears\", bigcount, \"times.\")\n",
    "\n",
    "print(\"The most common word is the word\",'\\033[1m' + bigword + '\\033[0m' + \" and it appears \" +  '\\033[1m' + str(bigcount) + '\\033[0m' + \" times.\")"
   ]
  }
 ],
 "metadata": {
  "kernelspec": {
   "display_name": "Python 3 (ipykernel)",
   "language": "python",
   "name": "python3"
  },
  "language_info": {
   "codemirror_mode": {
    "name": "ipython",
    "version": 3
   },
   "file_extension": ".py",
   "mimetype": "text/x-python",
   "name": "python",
   "nbconvert_exporter": "python",
   "pygments_lexer": "ipython3",
   "version": "3.9.7"
  }
 },
 "nbformat": 4,
 "nbformat_minor": 5
}
