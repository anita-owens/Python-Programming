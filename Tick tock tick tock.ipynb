{
 "cells": [
  {
   "cell_type": "code",
   "execution_count": 6,
   "id": "1bc4faac",
   "metadata": {},
   "outputs": [],
   "source": [
    "import time\n",
    "import os"
   ]
  },
  {
   "cell_type": "code",
   "execution_count": 7,
   "id": "90d32f4d",
   "metadata": {},
   "outputs": [
    {
     "name": "stdout",
     "output_type": "stream",
     "text": [
      "Current working directory before\n",
      "/Users/anitaowens/Documents/GitHub/Python-Programming\n",
      "\n"
     ]
    }
   ],
   "source": [
    "# Function to Get the current\n",
    "# working directory\n",
    "def current_path():\n",
    "    print(\"Current working directory before\")\n",
    "    print(os.getcwd())\n",
    "    print()\n",
    "    \n",
    "current_path()"
   ]
  },
  {
   "cell_type": "code",
   "execution_count": 3,
   "id": "f812c9bc",
   "metadata": {},
   "outputs": [
    {
     "name": "stdout",
     "output_type": "stream",
     "text": [
      "tick\n",
      "tock\n",
      "tick\n",
      "tock\n",
      "tick\n",
      "tock\n"
     ]
    }
   ],
   "source": [
    "for i in range (3):\n",
    "    print('tick')\n",
    "    time.sleep(1)\n",
    "    print('tock')\n",
    "    time.sleep(1)"
   ]
  },
  {
   "cell_type": "code",
   "execution_count": 4,
   "id": "40988812",
   "metadata": {},
   "outputs": [
    {
     "name": "stdout",
     "output_type": "stream",
     "text": [
      "hello peter\n",
      "you are the best\n",
      "it is time to say goodbye\n",
      "the end\n"
     ]
    }
   ],
   "source": [
    "for i in range (1):\n",
    "    print('hello peter')\n",
    "    time.sleep(2)\n",
    "    print('you are the best')\n",
    "    time.sleep(2)\n",
    "    print('it is time to say goodbye')\n",
    "    time.sleep(2)\n",
    "print('the end')"
   ]
  },
  {
   "cell_type": "code",
   "execution_count": 10,
   "id": "753d916b",
   "metadata": {},
   "outputs": [
    {
     "name": "stdout",
     "output_type": "stream",
     "text": [
      "SPEAKER: MICHAEL J. MAHOMETA, Ph.D.\n",
      "\n",
      "We've seen how to determine our conditional probabilities\n",
      "\n",
      "from a contingency table, and how to use those in conjunction\n",
      "\n",
      "with a marginal distribution to determine\n",
      "\n",
      "if there is in fact a relationship between two categorical variables.\n",
      "\n",
      "But what if you didn't have the conditional probabilities?\n",
      "\n",
      "What if you had instead occurrence rates of an event?\n",
      "\n",
      "Could you in fact work backwards to find the reverse conditional probability?\n",
      "\n",
      "\n",
      "\n",
      "Let's put this into context.\n",
      "\n",
      "Have you every had to have a medical test?\n",
      "\n",
      "Or do you know anyone who has?\n",
      "\n",
      "Maybe a test for heart disease or for cancer?\n",
      "\n",
      "\n",
      "\n",
      "Suppose you get test results that are positive for the disease.\n",
      "\n",
      "How should you react?\n",
      "\n",
      "A reverse conditional probability - specifically a conditional probability\n",
      "\n",
      "tree - can help us make sense of those test results.\n",
      "\n",
      "Let's go ahead again and start with a basic question.\n",
      "\n",
      "\n",
      "\n",
      "Before we get started, there're some basic things that we need to know.\n",
      "\n",
      "Medical tests are designed to be good at what\n",
      "\n",
      "is Sensitivity, which is the probability of testing positive given\n",
      "\n",
      "the presence of a disease.\n",
      "\n",
      "Imagine you're in a room with 100 people,\n",
      "\n",
      "and they all have a specific disease.\n",
      "\n",
      "If your test confirms that 93 of them have the disease,\n",
      "\n",
      "then your test is 93% Sensitive or has a Sensitivity rate of 93%.\n",
      "\n",
      "Medical tests are also designed to be good at Specificity:\n",
      "\n",
      "the probability of testing negative when the disease is in fact not present.\n",
      "\n",
      "Now, you might be thinking - Wait a second, that's\n",
      "\n",
      "the probability that I want - the Sensitivity,\n",
      "\n",
      "the probability of testing positive if you actual have the disease.\n",
      "\n",
      "But our question is actually the reverse:\n",
      "\n",
      "what's the probability of having the disease given\n",
      "\n",
      "that you have a positive test result.\n",
      "\n",
      "Your doctor doesn't come in and say \"you have this disease.\"\n",
      "\n",
      "Instead they say \"you've tested positive for this disease.\"\n",
      "\n",
      "Now that's a big difference.\n",
      "\n",
      "As we'll see, testing positive doesn't actually\n",
      "\n",
      "guarantee that we have the disease.\n",
      "\n",
      "Let's assume that we've tested positive for Lyme Disease.\n",
      "\n",
      "It's a fairly rare disease, so we'll say that the percent\n",
      "\n",
      "incidence is 1% in the population.\n",
      "\n",
      "The Sensitivity of an ELISA test - the test used to determine Lyme Disease\n",
      "\n",
      "- is about 88.6%.\n",
      "\n",
      "And the Specificity of the test is 98.9%.\n",
      "\n",
      "We can use all of these values in our reverse probability tree.\n",
      "\n",
      "First, we'll make our initial branches - the incidence rate in the population.\n",
      "\n",
      "Here, 1% of the population has Lyme disease and 99% do not.\n",
      "\n",
      "Now, we add our corresponding branches to each of the disease possibilities.\n",
      "\n",
      "\n",
      "\n",
      "The probability of testing positive given the presence of the disease\n",
      "\n",
      "- the test of Sensitivity - is 88.6%.\n",
      "\n",
      "So testing negative given the presence of the disease is 11.4%.\n",
      "\n",
      "Now for the other branches.\n",
      "\n",
      "The probability of testing negative when the disease is not present\n",
      "\n",
      "- the test Specificity - is 98.9%.\n",
      "\n",
      "That makes the probability of testing positive when the disease is not\n",
      "\n",
      "present is 1.1% Let's work out all of our \"AND\" probabilities.\n",
      "\n",
      "The probability of having Lyme disease AND the probability of testing positive\n",
      "\n",
      "is 0.00886.\n",
      "\n",
      "Here are the remaining AND probabilities for the tree.\n",
      "\n",
      "Remember our question: What's the the probability of actually having\n",
      "\n",
      "a disease given that you've tested positive?\n",
      "\n",
      "Here are the two ways that you can test positive\n",
      "\n",
      "and their corresponding probabilities.\n",
      "\n",
      "If we sum these two disjoint values, we get the probability\n",
      "\n",
      "of getting a positive test.\n",
      "\n",
      "Now only one of them is because of the presence of the disease.\n",
      "\n",
      "So we solve our question with a ratio.\n",
      "\n",
      "Here we see the proportion of positive test results\n",
      "\n",
      "that are due to the disease, which is the same as having the disease given\n",
      "\n",
      "a positive test result.\n",
      "\n",
      "That's the probability that we're actually looking for.\n",
      "\n",
      "And it's pretty good news: it's 44.9%.\n",
      "\n",
      "That means, even with a positive test result,\n",
      "\n",
      "the probability of actually having Lyme disease in this case is only 44.9%.\n",
      "\n",
      "There's more than a 50% probability that you\n",
      "\n",
      "don't have the disease even though you've received a positive test result.\n",
      "\n",
      "And that's how conditional probabilities can\n",
      "\n",
      "help us get a handle on medical test results.\n"
     ]
    }
   ],
   "source": [
    "file_name = \"text files/prob.txt\"\n",
    "handle = open(file_name,'r')\n",
    "for lines in handle:\n",
    "    print(lines)"
   ]
  },
  {
   "cell_type": "code",
   "execution_count": 14,
   "id": "52cfc440",
   "metadata": {},
   "outputs": [
    {
     "name": "stdout",
     "output_type": "stream",
     "text": [
      "['SPEAKER: MICHAEL J. MAHOMETA, Ph.D.', \"We've seen how to determine our conditional probabilities\", 'from a contingency table, and how to use those in conjunction', 'with a marginal distribution to determine', 'if there is in fact a relationship between two categorical variables.', \"But what if you didn't have the conditional probabilities?\", 'What if you had instead occurrence rates of an event?', 'Could you in fact work backwards to find the reverse conditional probability?', '', \"Let's put this into context.\", 'Have you every had to have a medical test?', 'Or do you know anyone who has?', 'Maybe a test for heart disease or for cancer?', '', 'Suppose you get test results that are positive for the disease.', 'How should you react?', 'A reverse conditional probability - specifically a conditional probability', 'tree - can help us make sense of those test results.', \"Let's go ahead again and start with a basic question.\", '', \"Before we get started, there're some basic things that we need to know.\", 'Medical tests are designed to be good at what', 'is Sensitivity, which is the probability of testing positive given', 'the presence of a disease.', \"Imagine you're in a room with 100 people,\", 'and they all have a specific disease.', 'If your test confirms that 93 of them have the disease,', 'then your test is 93% Sensitive or has a Sensitivity rate of 93%.', 'Medical tests are also designed to be good at Specificity:', 'the probability of testing negative when the disease is in fact not present.', \"Now, you might be thinking - Wait a second, that's\", 'the probability that I want - the Sensitivity,', 'the probability of testing positive if you actual have the disease.', 'But our question is actually the reverse:', \"what's the probability of having the disease given\", 'that you have a positive test result.', 'Your doctor doesn\\'t come in and say \"you have this disease.\"', 'Instead they say \"you\\'ve tested positive for this disease.\"', \"Now that's a big difference.\", \"As we'll see, testing positive doesn't actually\", 'guarantee that we have the disease.', \"Let's assume that we've tested positive for Lyme Disease.\", \"It's a fairly rare disease, so we'll say that the percent\", 'incidence is 1% in the population.', 'The Sensitivity of an ELISA test - the test used to determine Lyme Disease', '- is about 88.6%.', 'And the Specificity of the test is 98.9%.', 'We can use all of these values in our reverse probability tree.', \"First, we'll make our initial branches - the incidence rate in the population.\", 'Here, 1% of the population has Lyme disease and 99% do not.', 'Now, we add our corresponding branches to each of the disease possibilities.', '', 'The probability of testing positive given the presence of the disease', '- the test of Sensitivity - is 88.6%.', 'So testing negative given the presence of the disease is 11.4%.', 'Now for the other branches.', 'The probability of testing negative when the disease is not present', '- the test Specificity - is 98.9%.', 'That makes the probability of testing positive when the disease is not', 'present is 1.1% Let\\'s work out all of our \"AND\" probabilities.', 'The probability of having Lyme disease AND the probability of testing positive', 'is 0.00886.', 'Here are the remaining AND probabilities for the tree.', \"Remember our question: What's the the probability of actually having\", \"a disease given that you've tested positive?\", 'Here are the two ways that you can test positive', 'and their corresponding probabilities.', 'If we sum these two disjoint values, we get the probability', 'of getting a positive test.', 'Now only one of them is because of the presence of the disease.', 'So we solve our question with a ratio.', 'Here we see the proportion of positive test results', 'that are due to the disease, which is the same as having the disease given', 'a positive test result.', \"That's the probability that we're actually looking for.\", \"And it's pretty good news: it's 44.9%.\", 'That means, even with a positive test result,', 'the probability of actually having Lyme disease in this case is only 44.9%.', \"There's more than a 50% probability that you\", \"don't have the disease even though you've received a positive test result.\", \"And that's how conditional probabilities can\", 'help us get a handle on medical test results.']\n",
      "82\n",
      "['SPEAKER: MICHAEL J. MAHOMETA, Ph.D.', \"We've seen how to determine our conditional probabilities\", 'from a contingency table, and how to use those in conjunction', 'with a marginal distribution to determine', 'if there is in fact a relationship between two categorical variables.', \"But what if you didn't have the conditional probabilities?\", 'What if you had instead occurrence rates of an event?', 'Could you in fact work backwards to find the reverse conditional probability?', '', \"Let's put this into context.\"]\n",
      "4.124641418457031e-05 seconds\n"
     ]
    }
   ],
   "source": [
    "###Reads lines from a file and builds a list using append\n",
    "t = list()\n",
    "file_name = \"text files/prob.txt\"\n",
    "fin = open(file_name,'r')\n",
    "for line in fin:\n",
    "    word = line.strip()\n",
    "    t.append(word)\n",
    "print(t)\n",
    "\n",
    "import time\n",
    "start_time = time.time()\n",
    "elapsed_time = time.time() - start_time\n",
    "\n",
    "print(len(t))\n",
    "print(t[:10])\n",
    "print(elapsed_time, 'seconds') #How long it took to read the file"
   ]
  },
  {
   "cell_type": "code",
   "execution_count": 11,
   "id": "478ce179",
   "metadata": {},
   "outputs": [
    {
     "name": "stdout",
     "output_type": "stream",
     "text": [
      "<_io.TextIOWrapper name='text files/somnet29.txt' mode='r' encoding='UTF-8'>\n"
     ]
    }
   ],
   "source": [
    "somnetFile = open('text files/somnet29.txt')\n",
    "somnetFile.readlines()\n",
    "print(somnetFile)"
   ]
  }
 ],
 "metadata": {
  "kernelspec": {
   "display_name": "Python 3.9.7 ('base')",
   "language": "python",
   "name": "python3"
  },
  "language_info": {
   "codemirror_mode": {
    "name": "ipython",
    "version": 3
   },
   "file_extension": ".py",
   "mimetype": "text/x-python",
   "name": "python",
   "nbconvert_exporter": "python",
   "pygments_lexer": "ipython3",
   "version": "3.9.7"
  },
  "vscode": {
   "interpreter": {
    "hash": "40d3a090f54c6569ab1632332b64b2c03c39dcf918b08424e98f38b5ae0af88f"
   }
  }
 },
 "nbformat": 4,
 "nbformat_minor": 5
}
