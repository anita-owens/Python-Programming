{
 "cells": [
  {
   "cell_type": "code",
   "execution_count": 3,
   "id": "d0d58c83",
   "metadata": {},
   "outputs": [
    {
     "name": "stdout",
     "output_type": "stream",
     "text": [
      "Enter a number: 5\n",
      "5.0 5.0 1\n",
      "Enter a number: 6\n",
      "6.0 11.0 2\n",
      "Enter a number: 10\n",
      "10.0 21.0 3\n",
      "Enter a number: done\n",
      "Average:  7.0\n"
     ]
    }
   ],
   "source": [
    "count = 0\n",
    "total = 0\n",
    "while True:\n",
    "    inp = input(\"Enter a number: \")\n",
    "    #DON'T PUT THE COUNT HERE!\n",
    "    #handle the edge cases\n",
    "    \n",
    "    if inp == 'done' : break\n",
    "    if len(inp) < 1 : break #Check for empty line, user just hits enter\n",
    "    \n",
    "    #DO THE WORK\n",
    "    try:\n",
    "        num = float(inp)\n",
    "    except:\n",
    "        print(\"Invalid input\")\n",
    "    count = count + 1\n",
    "    total = total + num\n",
    "    print(num, total, count)\n",
    "\n",
    "print('Average: ', total/count)"
   ]
  },
  {
   "cell_type": "markdown",
   "id": "170d0bf6",
   "metadata": {},
   "source": [
    "https://colab.research.google.com/github/rajeshkumarkarra/Learn_Python/blob/updates/Input_or_Output.ipynb"
   ]
  },
  {
   "cell_type": "code",
   "execution_count": null,
   "id": "debb701d",
   "metadata": {},
   "outputs": [],
   "source": []
  }
 ],
 "metadata": {
  "kernelspec": {
   "display_name": "Python 3 (ipykernel)",
   "language": "python",
   "name": "python3"
  },
  "language_info": {
   "codemirror_mode": {
    "name": "ipython",
    "version": 3
   },
   "file_extension": ".py",
   "mimetype": "text/x-python",
   "name": "python",
   "nbconvert_exporter": "python",
   "pygments_lexer": "ipython3",
   "version": "3.9.7"
  }
 },
 "nbformat": 4,
 "nbformat_minor": 5
}
