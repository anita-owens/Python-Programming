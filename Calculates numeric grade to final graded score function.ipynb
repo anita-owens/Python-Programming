{
 "cells": [
  {
   "cell_type": "code",
   "execution_count": 2,
   "id": "615bc911",
   "metadata": {},
   "outputs": [],
   "source": [
    "def computegrade(score):\n",
    "    if score >= 0.9 :\n",
    "        return 'A'\n",
    "    elif score >= 0.8 :\n",
    "        return 'B'\n",
    "    elif score >= 0.7 :\n",
    "        return 'C'\n",
    "    elif score >= 0.6 :\n",
    "        return 'D'\n",
    "    elif  score < 0.6 :\n",
    "        return 'F'\n",
    "\n",
    "try:\n",
    "    inp = input (\"Enter score between 0.0 and 1.0\")\n",
    "    score = float(inp)\n",
    "except:\n",
    "    print('Try again, but next time please enter a valid number')\n",
    "    pass\n",
    "\n",
    "\n",
    "score = computegrade (score)\n",
    "print(score)"
   ]
  },
  {
   "cell_type": "code",
   "execution_count": null,
   "id": "ee97b69a",
   "metadata": {},
   "outputs": [],
   "source": [
    "def computegrade(score):\n",
    "    if score >= 0.9 and score <= 1.0:\n",
    "        return 'A'\n",
    "    elif score >= 0.8 and score < 0.9:\n",
    "        return 'B'\n",
    "    elif score >= 0.7 and score < 0.8 :\n",
    "        return 'C'\n",
    "    elif score >= 0.6 and score < 0.7 :\n",
    "        return 'D'\n",
    "    elif  score < 0.6 :\n",
    "        return 'F'\n",
    "    else:\n",
    "        return 'Not a valid score. Try again'\n",
    "\n",
    "try:\n",
    "    inp = input ('Enter score between 0.0 and 1.0')\n",
    "    score = float(inp)\n",
    "except:\n",
    "    print('Try again, but next time please enter a valid number')\n",
    "\n",
    "\n",
    "score = computegrade (score)\n",
    "print(score)"
   ]
  },
  {
   "cell_type": "code",
   "execution_count": null,
   "id": "d06f7b78",
   "metadata": {},
   "outputs": [],
   "source": []
  }
 ],
 "metadata": {
  "kernelspec": {
   "display_name": "Python 3 (ipykernel)",
   "language": "python",
   "name": "python3"
  },
  "language_info": {
   "codemirror_mode": {
    "name": "ipython",
    "version": 3
   },
   "file_extension": ".py",
   "mimetype": "text/x-python",
   "name": "python",
   "nbconvert_exporter": "python",
   "pygments_lexer": "ipython3",
   "version": "3.10.6"
  }
 },
 "nbformat": 4,
 "nbformat_minor": 5
}
