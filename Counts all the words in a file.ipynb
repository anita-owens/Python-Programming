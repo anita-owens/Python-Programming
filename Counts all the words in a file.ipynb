{
 "cells": [
  {
   "cell_type": "code",
   "execution_count": 3,
   "id": "85236fc5",
   "metadata": {},
   "outputs": [],
   "source": [
    "import os"
   ]
  },
  {
   "cell_type": "code",
   "execution_count": 5,
   "id": "3c91c038",
   "metadata": {},
   "outputs": [
    {
     "name": "stdout",
     "output_type": "stream",
     "text": [
      "Current working directory before\n",
      "/Users/anitaowens/Documents/GitHub/Python-Programming\n",
      "\n"
     ]
    }
   ],
   "source": [
    "# Function to Get the current\n",
    "# working directory\n",
    "def current_path():\n",
    "    print(\"Current working directory before\")\n",
    "    print(os.getcwd())\n",
    "    print()\n",
    "    \n",
    "current_path()"
   ]
  },
  {
   "cell_type": "code",
   "execution_count": 8,
   "id": "c539a312",
   "metadata": {},
   "outputs": [
    {
     "name": "stdout",
     "output_type": "stream",
     "text": [
      "Enter file:\n"
     ]
    }
   ],
   "source": [
    "#this prints a list of all the words in a file with the number of times it appears\n",
    "file_name = input('Enter file:')\n",
    "#If no file name is entered it will use the prob.txt in the text files folder\n",
    "if len(file_name) < 1 : file_name = \"text files/prob.txt\"\n",
    "handle = open(file_name,'r')\n",
    "text = handle.read()\n",
    "words = text.split()\n",
    "Words=[]"
   ]
  },
  {
   "cell_type": "code",
   "execution_count": 10,
   "id": "d87acd6f",
   "metadata": {},
   "outputs": [
    {
     "name": "stdout",
     "output_type": "stream",
     "text": [
      "# of words in doc:\n",
      "702\n"
     ]
    }
   ],
   "source": [
    "for line in words:\n",
    "    Words.append(line.strip())\n",
    "print(\"# of words in doc:\")\n",
    "print(len(Words))"
   ]
  }
 ],
 "metadata": {
  "kernelspec": {
   "display_name": "Python 3 (ipykernel)",
   "language": "python",
   "name": "python3"
  },
  "language_info": {
   "codemirror_mode": {
    "name": "ipython",
    "version": 3
   },
   "file_extension": ".py",
   "mimetype": "text/x-python",
   "name": "python",
   "nbconvert_exporter": "python",
   "pygments_lexer": "ipython3",
   "version": "3.9.7"
  }
 },
 "nbformat": 4,
 "nbformat_minor": 5
}
