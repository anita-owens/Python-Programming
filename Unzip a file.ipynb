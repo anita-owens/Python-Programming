{
 "cells": [
  {
   "cell_type": "code",
   "execution_count": 7,
   "id": "e167b68b",
   "metadata": {},
   "outputs": [],
   "source": [
    "import zipfile"
   ]
  },
  {
   "cell_type": "code",
   "execution_count": 8,
   "id": "96ea7b57",
   "metadata": {},
   "outputs": [
    {
     "name": "stdout",
     "output_type": "stream",
     "text": [
      "Are you a vampire?.ipynb\r\n",
      "Ask the user their age and return number of days old.ipynb\r\n",
      "Ask the user to enter a positive integer.ipynb\r\n",
      "Automation in Jupyter Notebook.ipynb\r\n",
      "Calculate trip costs.ipynb\r\n",
      "Calculates numeric grade to final graded score function.ipynb\r\n",
      "Calculates the average of a list.ipynb\r\n",
      "Choose_random_names_automation.ipynb\r\n",
      "Choose_random_names_automation.py\r\n",
      "Converts miles to feet function.ipynb\r\n",
      "Count strings function.ipynb\r\n",
      "Counts all the words in a file.ipynb\r\n",
      "Counts the most common word in a file.ipynb\r\n",
      "Dealing with time in Python.ipynb\r\n",
      "Deck of cards.ipynb\r\n",
      "Loops.ipynb\r\n",
      "Python Practice Exercises.py\r\n",
      "README.md\r\n",
      "Returns max of numbers function.ipynb\r\n",
      "Returns the square or cube of a number.ipynb\r\n",
      "Salary Calculator.ipynb\r\n",
      "Solve algebraic equation.ipynb\r\n",
      "Takes an average of numbers input by the user.ipynb\r\n",
      "Tick tock tick tock.ipynb\r\n",
      "Unzip a file.ipynb\r\n",
      "User inputs an integer and program outputs the corresponding day of the week.ipynb\r\n",
      "Web Scraping.ipynb\r\n",
      "Welcome to the pig latin translator!.ipynb\r\n",
      "Working with directory files.ipynb\r\n",
      "choose_random_names.py\r\n",
      "crontab\r\n",
      "file.txt\r\n",
      "file.txt.zip\r\n",
      "geonames-all-cities-with-a-population-1000.xlsx\r\n",
      "geonames-all-cities-with-a-population-1000.xlsx.zip\r\n",
      "\u001b[34msample\u001b[m\u001b[m\r\n",
      "sample.zip\r\n",
      "text\r\n",
      "\u001b[34mtext files\u001b[m\u001b[m\r\n",
      "\u001b[34mzippedfiles\u001b[m\u001b[m\r\n"
     ]
    }
   ],
   "source": [
    "!ls"
   ]
  },
  {
   "cell_type": "code",
   "execution_count": 10,
   "id": "a759c8d0",
   "metadata": {},
   "outputs": [],
   "source": [
    "# Create a ZipFile Object and load sample.zip in it\n",
    "with zipfile.ZipFile('geonames-all-cities-with-a-population-1000.xlsx.zip', 'r') as zipObj:\n",
    "   # Extract all the contents of zip file in current directory\n",
    "   zipObj.extractall()"
   ]
  },
  {
   "cell_type": "code",
   "execution_count": 11,
   "id": "1e7699c8",
   "metadata": {},
   "outputs": [
    {
     "name": "stdout",
     "output_type": "stream",
     "text": [
      "/Users/anitaowens/Documents/GitHub/Python-Programming\n"
     ]
    }
   ],
   "source": [
    "from pathlib import Path\n",
    "INPUT_DIR =  Path.cwd()\n",
    "\n",
    "print(INPUT_DIR)\n",
    "\n",
    "#Loop over files that end in .zip and unzip them in their own folder\n",
    "for file in list(INPUT_DIR.rglob(\"*.zip*\")): #returns .zip file paths in subdirectory\n",
    "    with zipfile.ZipFile(file) as zipObj:\n",
    "        #zipObj.extractall('/Users/anitaowens/Documents/GitHub/Python-Programming/zippedfiles')\n",
    "        zipObj.extractall('../zippedfiles')"
   ]
  },
  {
   "cell_type": "code",
   "execution_count": 12,
   "id": "b0e68c50",
   "metadata": {},
   "outputs": [
    {
     "name": "stdout",
     "output_type": "stream",
     "text": [
      "Are you a vampire?.ipynb\r\n",
      "Ask the user their age and return number of days old.ipynb\r\n",
      "Ask the user to enter a positive integer.ipynb\r\n",
      "Automation in Jupyter Notebook.ipynb\r\n",
      "Calculate trip costs.ipynb\r\n",
      "Calculates numeric grade to final graded score function.ipynb\r\n",
      "Calculates the average of a list.ipynb\r\n",
      "Choose_random_names_automation.ipynb\r\n",
      "Choose_random_names_automation.py\r\n",
      "Converts miles to feet function.ipynb\r\n",
      "Count strings function.ipynb\r\n",
      "Counts all the words in a file.ipynb\r\n",
      "Counts the most common word in a file.ipynb\r\n",
      "Dealing with time in Python.ipynb\r\n",
      "Deck of cards.ipynb\r\n",
      "Loops.ipynb\r\n",
      "Python Practice Exercises.py\r\n",
      "README.md\r\n",
      "Returns max of numbers function.ipynb\r\n",
      "Returns the square or cube of a number.ipynb\r\n",
      "Salary Calculator.ipynb\r\n",
      "Solve algebraic equation.ipynb\r\n",
      "Takes an average of numbers input by the user.ipynb\r\n",
      "Tick tock tick tock.ipynb\r\n",
      "Unzip a file.ipynb\r\n",
      "User inputs an integer and program outputs the corresponding day of the week.ipynb\r\n",
      "Web Scraping.ipynb\r\n",
      "Welcome to the pig latin translator!.ipynb\r\n",
      "Working with directory files.ipynb\r\n",
      "\u001b[34m__MACOSX\u001b[m\u001b[m\r\n",
      "choose_random_names.py\r\n",
      "crontab\r\n",
      "file.txt\r\n",
      "file.txt.zip\r\n",
      "geonames-all-cities-with-a-population-1000.xlsx\r\n",
      "geonames-all-cities-with-a-population-1000.xlsx.zip\r\n",
      "\u001b[34msample\u001b[m\u001b[m\r\n",
      "sample.zip\r\n",
      "text\r\n",
      "\u001b[34mtext files\u001b[m\u001b[m\r\n",
      "\u001b[34mzippedfiles\u001b[m\u001b[m\r\n"
     ]
    }
   ],
   "source": [
    "!ls"
   ]
  },
  {
   "cell_type": "code",
   "execution_count": null,
   "id": "aff59e52",
   "metadata": {},
   "outputs": [],
   "source": []
  }
 ],
 "metadata": {
  "kernelspec": {
   "display_name": "Python 3 (ipykernel)",
   "language": "python",
   "name": "python3"
  },
  "language_info": {
   "codemirror_mode": {
    "name": "ipython",
    "version": 3
   },
   "file_extension": ".py",
   "mimetype": "text/x-python",
   "name": "python",
   "nbconvert_exporter": "python",
   "pygments_lexer": "ipython3",
   "version": "3.9.7"
  }
 },
 "nbformat": 4,
 "nbformat_minor": 5
}
