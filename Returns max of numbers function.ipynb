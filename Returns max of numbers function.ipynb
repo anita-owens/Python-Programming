{
 "cells": [
  {
   "cell_type": "markdown",
   "id": "1d3c3ab1",
   "metadata": {},
   "source": [
    "A function that returns the max number input by the user"
   ]
  },
  {
   "cell_type": "code",
   "execution_count": 12,
   "id": "d18fbf5b",
   "metadata": {},
   "outputs": [
    {
     "name": "stdout",
     "output_type": "stream",
     "text": [
      "Enter number:1\n",
      "Enter number:12\n"
     ]
    }
   ],
   "source": [
    "#Input 2 numbers\n",
    "num1 = input('Enter number:')\n",
    "num2 = input('Enter number:')"
   ]
  },
  {
   "cell_type": "code",
   "execution_count": 13,
   "id": "6c63d674",
   "metadata": {},
   "outputs": [
    {
     "name": "stdout",
     "output_type": "stream",
     "text": [
      "max of 2: 12\n"
     ]
    }
   ],
   "source": [
    "#Write max function\n",
    "def max(num1, num2):\n",
    "    if num1 > num2:\n",
    "        return num1\n",
    "    else:\n",
    "        return num2\n",
    "print(\"max of 2:\", max(num1, num2))"
   ]
  },
  {
   "cell_type": "code",
   "execution_count": 14,
   "id": "7bb43b2a",
   "metadata": {},
   "outputs": [
    {
     "name": "stdout",
     "output_type": "stream",
     "text": [
      "Enter number:10\n",
      "max of 3: 12\n"
     ]
    }
   ],
   "source": [
    "#Enter a 3rd number\n",
    "num3 = input('Enter number:')\n",
    "def max_of_three(num1, num2, num3):\n",
    "    return max(max(num1, num2), num3)\n",
    "print(\"max of 3:\", max_of_three (num1, num2, num3))"
   ]
  }
 ],
 "metadata": {
  "kernelspec": {
   "display_name": "Python 3.7.9 64-bit",
   "language": "python",
   "name": "python3"
  },
  "language_info": {
   "codemirror_mode": {
    "name": "ipython",
    "version": 3
   },
   "file_extension": ".py",
   "mimetype": "text/x-python",
   "name": "python",
   "nbconvert_exporter": "python",
   "pygments_lexer": "ipython3",
   "version": "3.7.9"
  },
  "vscode": {
   "interpreter": {
    "hash": "aee8b7b246df8f9039afb4144a1f6fd8d2ca17a180786b69acc140d282b71a49"
   }
  }
 },
 "nbformat": 4,
 "nbformat_minor": 5
}
