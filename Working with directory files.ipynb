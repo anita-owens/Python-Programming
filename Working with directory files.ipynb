{
 "cells": [
  {
   "cell_type": "code",
   "execution_count": 26,
   "id": "5e45f014",
   "metadata": {},
   "outputs": [
    {
     "name": "stdout",
     "output_type": "stream",
     "text": [
      "Are you a vampire?.ipynb\r\n",
      "Ask the user their age and return number of days old.ipynb\r\n",
      "Ask the user to enter a positive integer.ipynb\r\n",
      "Calculate trip costs.ipynb\r\n",
      "Calculates numeric grade to final graded score function.ipynb\r\n",
      "Calculates the average of a list.ipynb\r\n",
      "Choose random names.ipynb\r\n",
      "Converts miles to feet function.ipynb\r\n",
      "Count strings function.ipynb\r\n",
      "Counts all the words in a file.ipynb\r\n",
      "Counts the most common word in a file.ipynb\r\n",
      "Dealing with time in Python.ipynb\r\n",
      "Deck of cards.ipynb\r\n",
      "Loops.ipynb\r\n",
      "Python Practice Exercises.py\r\n",
      "README.md\r\n",
      "Returns max of numbers function.ipynb\r\n",
      "Returns the square or cube of a number.ipynb\r\n",
      "Salary Calculator.ipynb\r\n",
      "Solve algebraic equation.ipynb\r\n",
      "Takes an average of numbers input by the user.ipynb\r\n",
      "Tick tock tick tock.ipynb\r\n",
      "Unzip a file.ipynb\r\n",
      "User inputs an integer and program outputs the corresponding day of the week.ipynb\r\n",
      "Web Scraping.ipynb\r\n",
      "Welcome to the pig latin translator!.ipynb\r\n",
      "Working with directory files.ipynb\r\n",
      "\u001b[34m__MACOSX\u001b[m\u001b[m\r\n",
      "geonames-all-cities-with-a-population-1000.xlsx\r\n",
      "geonames-all-cities-with-a-population-1000.xlsx.zip\r\n",
      "\u001b[34mtext files\u001b[m\u001b[m\r\n"
     ]
    }
   ],
   "source": [
    "!ls"
   ]
  },
  {
   "cell_type": "markdown",
   "id": "7235452d",
   "metadata": {},
   "source": [
    "# Get current working directory"
   ]
  },
  {
   "cell_type": "code",
   "execution_count": 8,
   "id": "9f495339",
   "metadata": {},
   "outputs": [
    {
     "name": "stdout",
     "output_type": "stream",
     "text": [
      "/Users/anitaowens/Documents/GitHub/Python-Programming\n"
     ]
    }
   ],
   "source": [
    "import os\n",
    "\n",
    "#Assign current working directory\n",
    "cwd = os.getcwd()\n",
    "\n",
    "print(cwd)"
   ]
  },
  {
   "cell_type": "code",
   "execution_count": 11,
   "id": "687cadae",
   "metadata": {},
   "outputs": [
    {
     "data": {
      "text/plain": [
       "'/Users/anitaowens/Documents/GitHub/Python-Programming'"
      ]
     },
     "execution_count": 11,
     "metadata": {},
     "output_type": "execute_result"
    }
   ],
   "source": [
    "os.path.realpath('.')"
   ]
  },
  {
   "cell_type": "markdown",
   "id": "5fceb1f8",
   "metadata": {},
   "source": [
    "# Using OS"
   ]
  },
  {
   "cell_type": "code",
   "execution_count": 9,
   "id": "e5eb51de",
   "metadata": {},
   "outputs": [
    {
     "name": "stdout",
     "output_type": "stream",
     "text": [
      "/Users/anitaowens/Documents/GitHub/Python-Programming/Count strings function.ipynb\n",
      "/Users/anitaowens/Documents/GitHub/Python-Programming/Tick tock tick tock.ipynb\n",
      "/Users/anitaowens/Documents/GitHub/Python-Programming/Python Practice Exercises.py\n",
      "/Users/anitaowens/Documents/GitHub/Python-Programming/.DS_Store\n",
      "/Users/anitaowens/Documents/GitHub/Python-Programming/Calculates numeric grade to final graded score function.ipynb\n",
      "/Users/anitaowens/Documents/GitHub/Python-Programming/Web Scraping.ipynb\n",
      "/Users/anitaowens/Documents/GitHub/Python-Programming/Takes an average of numbers input by the user.ipynb\n",
      "/Users/anitaowens/Documents/GitHub/Python-Programming/Deck of cards.ipynb\n",
      "/Users/anitaowens/Documents/GitHub/Python-Programming/Salary Calculator.ipynb\n",
      "/Users/anitaowens/Documents/GitHub/Python-Programming/Solve algebraic equation.ipynb\n",
      "/Users/anitaowens/Documents/GitHub/Python-Programming/User inputs an integer and program outputs the corresponding day of the week.ipynb\n",
      "/Users/anitaowens/Documents/GitHub/Python-Programming/Ask the user to enter a positive integer.ipynb\n",
      "/Users/anitaowens/Documents/GitHub/Python-Programming/Welcome to the pig latin translator!.ipynb\n",
      "/Users/anitaowens/Documents/GitHub/Python-Programming/Loops.ipynb\n",
      "/Users/anitaowens/Documents/GitHub/Python-Programming/README.md\n",
      "/Users/anitaowens/Documents/GitHub/Python-Programming/Converts miles to feet function.ipynb\n",
      "/Users/anitaowens/Documents/GitHub/Python-Programming/Ask the user their age and return number of days old.ipynb\n",
      "/Users/anitaowens/Documents/GitHub/Python-Programming/Working with directory files.ipynb\n",
      "/Users/anitaowens/Documents/GitHub/Python-Programming/Choose random names.ipynb\n",
      "/Users/anitaowens/Documents/GitHub/Python-Programming/Calculates the average of a list.ipynb\n",
      "/Users/anitaowens/Documents/GitHub/Python-Programming/Dealing with time in Python.ipynb\n",
      "/Users/anitaowens/Documents/GitHub/Python-Programming/Calculate trip costs.ipynb\n",
      "/Users/anitaowens/Documents/GitHub/Python-Programming/Are you a vampire?.ipynb\n",
      "/Users/anitaowens/Documents/GitHub/Python-Programming/Counts all the words in a file.ipynb\n",
      "/Users/anitaowens/Documents/GitHub/Python-Programming/Returns max of numbers function.ipynb\n",
      "/Users/anitaowens/Documents/GitHub/Python-Programming/Counts the most common word in a file.ipynb\n",
      "/Users/anitaowens/Documents/GitHub/Python-Programming/Returns the square or cube of a number.ipynb\n"
     ]
    }
   ],
   "source": [
    "import os\n",
    "# assign directory\n",
    "directory = cwd\n",
    "# iterate over files in\n",
    "# that directory\n",
    "for filename in os.listdir(directory):\n",
    "    f = os.path.join(directory, filename)\n",
    "    # checking if it is a file\n",
    "    if os.path.isfile(f):\n",
    "        print(f)"
   ]
  },
  {
   "cell_type": "markdown",
   "id": "7f81f05a",
   "metadata": {},
   "source": [
    "# Glob module"
   ]
  },
  {
   "cell_type": "code",
   "execution_count": 10,
   "id": "34819906",
   "metadata": {},
   "outputs": [
    {
     "name": "stdout",
     "output_type": "stream",
     "text": [
      "/Users/anitaowens/Documents/GitHub/Python-Programming/Count strings function.ipynb\n",
      "/Users/anitaowens/Documents/GitHub/Python-Programming/Tick tock tick tock.ipynb\n",
      "/Users/anitaowens/Documents/GitHub/Python-Programming/Python Practice Exercises.py\n",
      "/Users/anitaowens/Documents/GitHub/Python-Programming/text files\n",
      "/Users/anitaowens/Documents/GitHub/Python-Programming/Calculates numeric grade to final graded score function.ipynb\n",
      "/Users/anitaowens/Documents/GitHub/Python-Programming/Web Scraping.ipynb\n",
      "/Users/anitaowens/Documents/GitHub/Python-Programming/Takes an average of numbers input by the user.ipynb\n",
      "/Users/anitaowens/Documents/GitHub/Python-Programming/Deck of cards.ipynb\n",
      "/Users/anitaowens/Documents/GitHub/Python-Programming/Salary Calculator.ipynb\n",
      "/Users/anitaowens/Documents/GitHub/Python-Programming/Solve algebraic equation.ipynb\n",
      "/Users/anitaowens/Documents/GitHub/Python-Programming/User inputs an integer and program outputs the corresponding day of the week.ipynb\n",
      "/Users/anitaowens/Documents/GitHub/Python-Programming/Ask the user to enter a positive integer.ipynb\n",
      "/Users/anitaowens/Documents/GitHub/Python-Programming/Welcome to the pig latin translator!.ipynb\n",
      "/Users/anitaowens/Documents/GitHub/Python-Programming/Loops.ipynb\n",
      "/Users/anitaowens/Documents/GitHub/Python-Programming/README.md\n",
      "/Users/anitaowens/Documents/GitHub/Python-Programming/Converts miles to feet function.ipynb\n",
      "/Users/anitaowens/Documents/GitHub/Python-Programming/Ask the user their age and return number of days old.ipynb\n",
      "/Users/anitaowens/Documents/GitHub/Python-Programming/Working with directory files.ipynb\n",
      "/Users/anitaowens/Documents/GitHub/Python-Programming/Choose random names.ipynb\n",
      "/Users/anitaowens/Documents/GitHub/Python-Programming/Calculates the average of a list.ipynb\n",
      "/Users/anitaowens/Documents/GitHub/Python-Programming/Dealing with time in Python.ipynb\n",
      "/Users/anitaowens/Documents/GitHub/Python-Programming/Calculate trip costs.ipynb\n",
      "/Users/anitaowens/Documents/GitHub/Python-Programming/Are you a vampire?.ipynb\n",
      "/Users/anitaowens/Documents/GitHub/Python-Programming/Counts all the words in a file.ipynb\n",
      "/Users/anitaowens/Documents/GitHub/Python-Programming/Returns max of numbers function.ipynb\n",
      "/Users/anitaowens/Documents/GitHub/Python-Programming/Counts the most common word in a file.ipynb\n",
      "/Users/anitaowens/Documents/GitHub/Python-Programming/Returns the square or cube of a number.ipynb\n"
     ]
    }
   ],
   "source": [
    "# import required module\n",
    "import glob\n",
    " \n",
    "# assign directory\n",
    "directory = cwd\n",
    " \n",
    "# iterate over files in\n",
    "# that directory\n",
    "for filename in glob.iglob(f'{directory}/*'):\n",
    "    print(filename)"
   ]
  },
  {
   "cell_type": "code",
   "execution_count": 19,
   "id": "50e1fb4c",
   "metadata": {},
   "outputs": [
    {
     "name": "stdout",
     "output_type": "stream",
     "text": [
      "/Users/anitaowens/Documents/GitHub/Python-Programming/text files/babynames.txt\n",
      "/Users/anitaowens/Documents/GitHub/Python-Programming/text files/somnet29.txt\n",
      "/Users/anitaowens/Documents/GitHub/Python-Programming/text files/prob.txt\n"
     ]
    }
   ],
   "source": [
    "cwd_2 = os.getcwd()\n",
    " \n",
    "# assign directory\n",
    "directory_2 = '/Users/anitaowens/Documents/GitHub/Python-Programming/text files'\n",
    " \n",
    "# iterate over files in\n",
    "# that directory\n",
    "for filename in glob.iglob(f'{directory_2}/*'):\n",
    "    print(filename)"
   ]
  },
  {
   "cell_type": "markdown",
   "id": "eb485ba9",
   "metadata": {},
   "source": [
    "# Looping through directory and subdirectories"
   ]
  },
  {
   "cell_type": "code",
   "execution_count": 20,
   "id": "3d1e65f5",
   "metadata": {},
   "outputs": [
    {
     "name": "stdout",
     "output_type": "stream",
     "text": [
      "/Users/anitaowens/Documents/GitHub/Python-Programming/text files\n"
     ]
    }
   ],
   "source": [
    "from pathlib import Path\n",
    "INPUT_DIR = Path.cwd() / \"text files\" #returns current working directory\n",
    "\n",
    "print(INPUT_DIR)"
   ]
  },
  {
   "cell_type": "code",
   "execution_count": 21,
   "id": "8d193b0f",
   "metadata": {},
   "outputs": [
    {
     "name": "stdout",
     "output_type": "stream",
     "text": [
      "/Users/anitaowens/Documents/GitHub/Python-Programming/text files/babynames.txt\n",
      "/Users/anitaowens/Documents/GitHub/Python-Programming/text files/somnet29.txt\n",
      "/Users/anitaowens/Documents/GitHub/Python-Programming/text files/prob.txt\n"
     ]
    }
   ],
   "source": [
    "#glob = specific folder\n",
    "#rglob = including subfolder\n",
    "\n",
    "for file in list(INPUT_DIR.rglob(\"*.txt*\")): #returns .txt file paths\n",
    "    print(file)"
   ]
  },
  {
   "cell_type": "code",
   "execution_count": 25,
   "id": "cf4517f9",
   "metadata": {},
   "outputs": [
    {
     "name": "stdout",
     "output_type": "stream",
     "text": [
      "/Users/anitaowens/Documents/GitHub/Python-Programming\n",
      "/Users/anitaowens/Documents/GitHub/Python-Programming/text files/babynames.txt\n",
      "/Users/anitaowens/Documents/GitHub/Python-Programming/text files/somnet29.txt\n",
      "/Users/anitaowens/Documents/GitHub/Python-Programming/text files/prob.txt\n"
     ]
    }
   ],
   "source": [
    "#Reads all .txt file names that are in the subdirectory\n",
    "from pathlib import Path\n",
    "INPUT_DIR =  Path.cwd()\n",
    "\n",
    "print(INPUT_DIR)\n",
    "\n",
    "for file in list(INPUT_DIR.rglob(\"*.txt*\")): #returns .txt file paths in subdirectory\n",
    "    print(file)"
   ]
  },
  {
   "cell_type": "code",
   "execution_count": 28,
   "id": "686eed54",
   "metadata": {},
   "outputs": [
    {
     "name": "stdout",
     "output_type": "stream",
     "text": [
      "When, in disgrace with fortune and men's eyes,\n",
      "I all alone beweep my outcast state,\n",
      "And trouble deaf heaven with my bootless cries,\n",
      "And look upon myself and curse my fate,\n"
     ]
    }
   ],
   "source": [
    "f = open('/Users/anitaowens/Documents/GitHub/Python-Programming/text files/somnet29.txt', 'r')\n",
    "print(f.read())\n",
    "f.close()"
   ]
  },
  {
   "cell_type": "code",
   "execution_count": 29,
   "id": "bc45b302",
   "metadata": {},
   "outputs": [
    {
     "name": "stdout",
     "output_type": "stream",
     "text": [
      "0When, in disgrace with fortune and men's eyes,\n",
      "\n",
      "1I all alone beweep my outcast state,\n",
      "\n",
      "2And trouble deaf heaven with my bootless cries,\n",
      "\n",
      "3And look upon myself and curse my fate,\n"
     ]
    }
   ],
   "source": [
    "f = open('/Users/anitaowens/Documents/GitHub/Python-Programming/text files/somnet29.txt', 'r')\n",
    "count = 0\n",
    "\n",
    "#Counts lines and prints them\n",
    "for line in f:\n",
    "    print(str(count) + line)\n",
    "    count = count + 1\n",
    "f.close()\n"
   ]
  }
 ],
 "metadata": {
  "kernelspec": {
   "display_name": "Python 3 (ipykernel)",
   "language": "python",
   "name": "python3"
  },
  "language_info": {
   "codemirror_mode": {
    "name": "ipython",
    "version": 3
   },
   "file_extension": ".py",
   "mimetype": "text/x-python",
   "name": "python",
   "nbconvert_exporter": "python",
   "pygments_lexer": "ipython3",
   "version": "3.9.7"
  }
 },
 "nbformat": 4,
 "nbformat_minor": 5
}
