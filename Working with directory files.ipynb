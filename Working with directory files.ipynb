{
 "cells": [
  {
   "cell_type": "code",
   "execution_count": 26,
   "id": "3a2d2a99",
   "metadata": {},
   "outputs": [
    {
     "name": "stdout",
     "output_type": "stream",
     "text": [
      "Are you a vampire?.ipynb\r\n",
      "Ask the user their age and return number of days old.ipynb\r\n",
      "Ask the user to enter a positive integer.ipynb\r\n",
      "Calculate trip costs.ipynb\r\n",
      "Calculates numeric grade to final graded score function.ipynb\r\n",
      "Calculates the average of a list.ipynb\r\n",
      "Choose random names.ipynb\r\n",
      "Converts miles to feet function.ipynb\r\n",
      "Count strings function.ipynb\r\n",
      "Counts all the words in a file.ipynb\r\n",
      "Counts the most common word in a file.ipynb\r\n",
      "Dealing with time in Python.ipynb\r\n",
      "Deck of cards.ipynb\r\n",
      "Loops.ipynb\r\n",
      "Python Practice Exercises.py\r\n",
      "README.md\r\n",
      "Returns max of numbers function.ipynb\r\n",
      "Returns the square or cube of a number.ipynb\r\n",
      "Salary Calculator.ipynb\r\n",
      "Solve algebraic equation.ipynb\r\n",
      "Takes an average of numbers input by the user.ipynb\r\n",
      "Tick tock tick tock.ipynb\r\n",
      "Unzip a file.ipynb\r\n",
      "User inputs an integer and program outputs the corresponding day of the week.ipynb\r\n",
      "Web Scraping.ipynb\r\n",
      "Welcome to the pig latin translator!.ipynb\r\n",
      "Working with directory files.ipynb\r\n",
      "\u001b[34m__MACOSX\u001b[m\u001b[m\r\n",
      "geonames-all-cities-with-a-population-1000.xlsx\r\n",
      "geonames-all-cities-with-a-population-1000.xlsx.zip\r\n",
      "\u001b[34mtext files\u001b[m\u001b[m\r\n"
     ]
    }
   ],
   "source": [
    "!ls"
   ]
  },
  {
   "cell_type": "markdown",
   "id": "a26cc351",
   "metadata": {},
   "source": [
    "# Get current working directory"
   ]
  },
  {
   "cell_type": "code",
   "execution_count": 8,
   "id": "80d4f591",
   "metadata": {},
   "outputs": [
    {
     "name": "stdout",
     "output_type": "stream",
     "text": [
      "/Users/anitaowens/Documents/GitHub/Python-Programming\n"
     ]
    }
   ],
   "source": [
    "import os\n",
    "\n",
    "#Assign current working directory\n",
    "cwd = os.getcwd()\n",
    "\n",
    "print(cwd)"
   ]
  },
  {
   "cell_type": "code",
   "execution_count": 11,
   "id": "82172e56",
   "metadata": {},
   "outputs": [
    {
     "data": {
      "text/plain": [
       "'/Users/anitaowens/Documents/GitHub/Python-Programming'"
      ]
     },
     "execution_count": 11,
     "metadata": {},
     "output_type": "execute_result"
    }
   ],
   "source": [
    "os.path.realpath('.')"
   ]
  },
  {
   "cell_type": "markdown",
   "id": "2be22070",
   "metadata": {},
   "source": [
    "# Using OS"
   ]
  },
  {
   "cell_type": "code",
   "execution_count": 9,
   "id": "7fabf638",
   "metadata": {},
   "outputs": [
    {
     "name": "stdout",
     "output_type": "stream",
     "text": [
      "/Users/anitaowens/Documents/GitHub/Python-Programming/Count strings function.ipynb\n",
      "/Users/anitaowens/Documents/GitHub/Python-Programming/Tick tock tick tock.ipynb\n",
      "/Users/anitaowens/Documents/GitHub/Python-Programming/Python Practice Exercises.py\n",
      "/Users/anitaowens/Documents/GitHub/Python-Programming/.DS_Store\n",
      "/Users/anitaowens/Documents/GitHub/Python-Programming/Calculates numeric grade to final graded score function.ipynb\n",
      "/Users/anitaowens/Documents/GitHub/Python-Programming/Web Scraping.ipynb\n",
      "/Users/anitaowens/Documents/GitHub/Python-Programming/Takes an average of numbers input by the user.ipynb\n",
      "/Users/anitaowens/Documents/GitHub/Python-Programming/Deck of cards.ipynb\n",
      "/Users/anitaowens/Documents/GitHub/Python-Programming/Salary Calculator.ipynb\n",
      "/Users/anitaowens/Documents/GitHub/Python-Programming/Solve algebraic equation.ipynb\n",
      "/Users/anitaowens/Documents/GitHub/Python-Programming/User inputs an integer and program outputs the corresponding day of the week.ipynb\n",
      "/Users/anitaowens/Documents/GitHub/Python-Programming/Ask the user to enter a positive integer.ipynb\n",
      "/Users/anitaowens/Documents/GitHub/Python-Programming/Welcome to the pig latin translator!.ipynb\n",
      "/Users/anitaowens/Documents/GitHub/Python-Programming/Loops.ipynb\n",
      "/Users/anitaowens/Documents/GitHub/Python-Programming/README.md\n",
      "/Users/anitaowens/Documents/GitHub/Python-Programming/Converts miles to feet function.ipynb\n",
      "/Users/anitaowens/Documents/GitHub/Python-Programming/Ask the user their age and return number of days old.ipynb\n",
      "/Users/anitaowens/Documents/GitHub/Python-Programming/Working with directory files.ipynb\n",
      "/Users/anitaowens/Documents/GitHub/Python-Programming/Choose random names.ipynb\n",
      "/Users/anitaowens/Documents/GitHub/Python-Programming/Calculates the average of a list.ipynb\n",
      "/Users/anitaowens/Documents/GitHub/Python-Programming/Dealing with time in Python.ipynb\n",
      "/Users/anitaowens/Documents/GitHub/Python-Programming/Calculate trip costs.ipynb\n",
      "/Users/anitaowens/Documents/GitHub/Python-Programming/Are you a vampire?.ipynb\n",
      "/Users/anitaowens/Documents/GitHub/Python-Programming/Counts all the words in a file.ipynb\n",
      "/Users/anitaowens/Documents/GitHub/Python-Programming/Returns max of numbers function.ipynb\n",
      "/Users/anitaowens/Documents/GitHub/Python-Programming/Counts the most common word in a file.ipynb\n",
      "/Users/anitaowens/Documents/GitHub/Python-Programming/Returns the square or cube of a number.ipynb\n"
     ]
    }
   ],
   "source": [
    "import os\n",
    "# assign directory\n",
    "directory = cwd\n",
    "# iterate over files in\n",
    "# that directory\n",
    "for filename in os.listdir(directory):\n",
    "    f = os.path.join(directory, filename)\n",
    "    # checking if it is a file\n",
    "    if os.path.isfile(f):\n",
    "        print(f)"
   ]
  },
  {
   "cell_type": "markdown",
   "id": "01e65af7",
   "metadata": {},
   "source": [
    "# Glob module"
   ]
  },
  {
   "cell_type": "code",
   "execution_count": 10,
   "id": "7110225c",
   "metadata": {},
   "outputs": [
    {
     "name": "stdout",
     "output_type": "stream",
     "text": [
      "/Users/anitaowens/Documents/GitHub/Python-Programming/Count strings function.ipynb\n",
      "/Users/anitaowens/Documents/GitHub/Python-Programming/Tick tock tick tock.ipynb\n",
      "/Users/anitaowens/Documents/GitHub/Python-Programming/Python Practice Exercises.py\n",
      "/Users/anitaowens/Documents/GitHub/Python-Programming/text files\n",
      "/Users/anitaowens/Documents/GitHub/Python-Programming/Calculates numeric grade to final graded score function.ipynb\n",
      "/Users/anitaowens/Documents/GitHub/Python-Programming/Web Scraping.ipynb\n",
      "/Users/anitaowens/Documents/GitHub/Python-Programming/Takes an average of numbers input by the user.ipynb\n",
      "/Users/anitaowens/Documents/GitHub/Python-Programming/Deck of cards.ipynb\n",
      "/Users/anitaowens/Documents/GitHub/Python-Programming/Salary Calculator.ipynb\n",
      "/Users/anitaowens/Documents/GitHub/Python-Programming/Solve algebraic equation.ipynb\n",
      "/Users/anitaowens/Documents/GitHub/Python-Programming/User inputs an integer and program outputs the corresponding day of the week.ipynb\n",
      "/Users/anitaowens/Documents/GitHub/Python-Programming/Ask the user to enter a positive integer.ipynb\n",
      "/Users/anitaowens/Documents/GitHub/Python-Programming/Welcome to the pig latin translator!.ipynb\n",
      "/Users/anitaowens/Documents/GitHub/Python-Programming/Loops.ipynb\n",
      "/Users/anitaowens/Documents/GitHub/Python-Programming/README.md\n",
      "/Users/anitaowens/Documents/GitHub/Python-Programming/Converts miles to feet function.ipynb\n",
      "/Users/anitaowens/Documents/GitHub/Python-Programming/Ask the user their age and return number of days old.ipynb\n",
      "/Users/anitaowens/Documents/GitHub/Python-Programming/Working with directory files.ipynb\n",
      "/Users/anitaowens/Documents/GitHub/Python-Programming/Choose random names.ipynb\n",
      "/Users/anitaowens/Documents/GitHub/Python-Programming/Calculates the average of a list.ipynb\n",
      "/Users/anitaowens/Documents/GitHub/Python-Programming/Dealing with time in Python.ipynb\n",
      "/Users/anitaowens/Documents/GitHub/Python-Programming/Calculate trip costs.ipynb\n",
      "/Users/anitaowens/Documents/GitHub/Python-Programming/Are you a vampire?.ipynb\n",
      "/Users/anitaowens/Documents/GitHub/Python-Programming/Counts all the words in a file.ipynb\n",
      "/Users/anitaowens/Documents/GitHub/Python-Programming/Returns max of numbers function.ipynb\n",
      "/Users/anitaowens/Documents/GitHub/Python-Programming/Counts the most common word in a file.ipynb\n",
      "/Users/anitaowens/Documents/GitHub/Python-Programming/Returns the square or cube of a number.ipynb\n"
     ]
    }
   ],
   "source": [
    "# import required module\n",
    "import glob\n",
    " \n",
    "# assign directory\n",
    "directory = cwd\n",
    " \n",
    "# iterate over files in\n",
    "# that directory\n",
    "for filename in glob.iglob(f'{directory}/*'):\n",
    "    print(filename)"
   ]
  },
  {
   "cell_type": "code",
   "execution_count": 19,
   "id": "d4d76f5f",
   "metadata": {},
   "outputs": [
    {
     "name": "stdout",
     "output_type": "stream",
     "text": [
      "/Users/anitaowens/Documents/GitHub/Python-Programming/text files/babynames.txt\n",
      "/Users/anitaowens/Documents/GitHub/Python-Programming/text files/somnet29.txt\n",
      "/Users/anitaowens/Documents/GitHub/Python-Programming/text files/prob.txt\n"
     ]
    }
   ],
   "source": [
    "cwd_2 = os.getcwd()\n",
    " \n",
    "# assign directory\n",
    "directory_2 = '/Users/anitaowens/Documents/GitHub/Python-Programming/text files'\n",
    " \n",
    "# iterate over files in\n",
    "# that directory\n",
    "for filename in glob.iglob(f'{directory_2}/*'):\n",
    "    print(filename)"
   ]
  },
  {
   "cell_type": "markdown",
   "id": "a550d8c1",
   "metadata": {},
   "source": [
    "# Looping through directory and subdirectories"
   ]
  },
  {
   "cell_type": "code",
   "execution_count": 20,
   "id": "1bdc5a20",
   "metadata": {},
   "outputs": [
    {
     "name": "stdout",
     "output_type": "stream",
     "text": [
      "/Users/anitaowens/Documents/GitHub/Python-Programming/text files\n"
     ]
    }
   ],
   "source": [
    "from pathlib import Path\n",
    "INPUT_DIR = Path.cwd() / \"text files\" #returns current working directory\n",
    "\n",
    "print(INPUT_DIR)"
   ]
  },
  {
   "cell_type": "code",
   "execution_count": 21,
   "id": "246314d8",
   "metadata": {},
   "outputs": [
    {
     "name": "stdout",
     "output_type": "stream",
     "text": [
      "/Users/anitaowens/Documents/GitHub/Python-Programming/text files/babynames.txt\n",
      "/Users/anitaowens/Documents/GitHub/Python-Programming/text files/somnet29.txt\n",
      "/Users/anitaowens/Documents/GitHub/Python-Programming/text files/prob.txt\n"
     ]
    }
   ],
   "source": [
    "#glob = specific folder\n",
    "#rglob = including subfolder\n",
    "\n",
    "for file in list(INPUT_DIR.rglob(\"*.txt*\")): #returns .txt file paths\n",
    "    print(file)"
   ]
  },
  {
   "cell_type": "code",
   "execution_count": 25,
   "id": "c2da134f",
   "metadata": {},
   "outputs": [
    {
     "name": "stdout",
     "output_type": "stream",
     "text": [
      "/Users/anitaowens/Documents/GitHub/Python-Programming\n",
      "/Users/anitaowens/Documents/GitHub/Python-Programming/text files/babynames.txt\n",
      "/Users/anitaowens/Documents/GitHub/Python-Programming/text files/somnet29.txt\n",
      "/Users/anitaowens/Documents/GitHub/Python-Programming/text files/prob.txt\n"
     ]
    }
   ],
   "source": [
    "#Reads all .txt file names that are in the subdirectory\n",
    "from pathlib import Path\n",
    "INPUT_DIR =  Path.cwd()\n",
    "\n",
    "print(INPUT_DIR)\n",
    "\n",
    "for file in list(INPUT_DIR.rglob(\"*.txt*\")): #returns .txt file paths in subdirectory\n",
    "    print(file)"
   ]
  },
  {
   "cell_type": "code",
   "execution_count": 28,
   "id": "ace366c4",
   "metadata": {},
   "outputs": [
    {
     "name": "stdout",
     "output_type": "stream",
     "text": [
      "When, in disgrace with fortune and men's eyes,\n",
      "I all alone beweep my outcast state,\n",
      "And trouble deaf heaven with my bootless cries,\n",
      "And look upon myself and curse my fate,\n"
     ]
    }
   ],
   "source": [
    "f = open('/Users/anitaowens/Documents/GitHub/Python-Programming/text files/somnet29.txt', 'r')\n",
    "print(f.read())\n",
    "f.close()"
   ]
  },
  {
   "cell_type": "code",
   "execution_count": 29,
   "id": "e82bff54",
   "metadata": {},
   "outputs": [
    {
     "name": "stdout",
     "output_type": "stream",
     "text": [
      "0When, in disgrace with fortune and men's eyes,\n",
      "\n",
      "1I all alone beweep my outcast state,\n",
      "\n",
      "2And trouble deaf heaven with my bootless cries,\n",
      "\n",
      "3And look upon myself and curse my fate,\n"
     ]
    }
   ],
   "source": [
    "f = open('/Users/anitaowens/Documents/GitHub/Python-Programming/text files/somnet29.txt', 'r')\n",
    "count = 0\n",
    "\n",
    "#Counts lines and prints them\n",
    "for line in f:\n",
    "    print(str(count) + line)\n",
    "    count = count + 1\n",
    "f.close()"
   ]
  },
  {
   "cell_type": "code",
   "execution_count": 33,
   "id": "145addb3",
   "metadata": {},
   "outputs": [
    {
     "name": "stdout",
     "output_type": "stream",
     "text": [
      "Charlie likes Peter!\n",
      "Debra likes Cora!\n",
      "Peter likes Bob!\n",
      "\n",
      "julie laura bree diana diana bree diana diana elizabeth samantha michelle lisa jennifer genevieve jennifer anita susie\n",
      "When, in disgrace with fortune and men's eyes,\n",
      "I all alone beweep my outcast state,\n",
      "And trouble deaf heaven with my bootless cries,\n",
      "And look upon myself and curse my fate,\n",
      "SPEAKER: MICHAEL J. MAHOMETA, Ph.D.\n",
      "We've seen how to determine our conditional probabilities\n",
      "from a contingency table, and how to use those in conjunction\n",
      "with a marginal distribution to determine\n",
      "if there is in fact a relationship between two categorical variables.\n",
      "But what if you didn't have the conditional probabilities?\n",
      "What if you had instead occurrence rates of an event?\n",
      "Could you in fact work backwards to find the reverse conditional probability?\n",
      "\n",
      "Let's put this into context.\n",
      "Have you every had to have a medical test?\n",
      "Or do you know anyone who has?\n",
      "Maybe a test for heart disease or for cancer?\n",
      "\n",
      "Suppose you get test results that are positive for the disease.\n",
      "How should you react?\n",
      "A reverse conditional probability - specifically a conditional probability\n",
      "tree - can help us make sense of those test results.\n",
      "Let's go ahead again and start with a basic question.\n",
      "\n",
      "Before we get started, there're some basic things that we need to know.\n",
      "Medical tests are designed to be good at what\n",
      "is Sensitivity, which is the probability of testing positive given\n",
      "the presence of a disease.\n",
      "Imagine you're in a room with 100 people,\n",
      "and they all have a specific disease.\n",
      "If your test confirms that 93 of them have the disease,\n",
      "then your test is 93% Sensitive or has a Sensitivity rate of 93%.\n",
      "Medical tests are also designed to be good at Specificity:\n",
      "the probability of testing negative when the disease is in fact not present.\n",
      "Now, you might be thinking - Wait a second, that's\n",
      "the probability that I want - the Sensitivity,\n",
      "the probability of testing positive if you actual have the disease.\n",
      "But our question is actually the reverse:\n",
      "what's the probability of having the disease given\n",
      "that you have a positive test result.\n",
      "Your doctor doesn't come in and say \"you have this disease.\"\n",
      "Instead they say \"you've tested positive for this disease.\"\n",
      "Now that's a big difference.\n",
      "As we'll see, testing positive doesn't actually\n",
      "guarantee that we have the disease.\n",
      "Let's assume that we've tested positive for Lyme Disease.\n",
      "It's a fairly rare disease, so we'll say that the percent\n",
      "incidence is 1% in the population.\n",
      "The Sensitivity of an ELISA test - the test used to determine Lyme Disease\n",
      "- is about 88.6%.\n",
      "And the Specificity of the test is 98.9%.\n",
      "We can use all of these values in our reverse probability tree.\n",
      "First, we'll make our initial branches - the incidence rate in the population.\n",
      "Here, 1% of the population has Lyme disease and 99% do not.\n",
      "Now, we add our corresponding branches to each of the disease possibilities.\n",
      "\n",
      "The probability of testing positive given the presence of the disease\n",
      "- the test of Sensitivity - is 88.6%.\n",
      "So testing negative given the presence of the disease is 11.4%.\n",
      "Now for the other branches.\n",
      "The probability of testing negative when the disease is not present\n",
      "- the test Specificity - is 98.9%.\n",
      "That makes the probability of testing positive when the disease is not\n",
      "present is 1.1% Let's work out all of our \"AND\" probabilities.\n",
      "The probability of having Lyme disease AND the probability of testing positive\n",
      "is 0.00886.\n",
      "Here are the remaining AND probabilities for the tree.\n",
      "Remember our question: What's the the probability of actually having\n",
      "a disease given that you've tested positive?\n",
      "Here are the two ways that you can test positive\n",
      "and their corresponding probabilities.\n",
      "If we sum these two disjoint values, we get the probability\n",
      "of getting a positive test.\n",
      "Now only one of them is because of the presence of the disease.\n",
      "So we solve our question with a ratio.\n",
      "Here we see the proportion of positive test results\n",
      "that are due to the disease, which is the same as having the disease given\n",
      "a positive test result.\n",
      "That's the probability that we're actually looking for.\n",
      "And it's pretty good news: it's 44.9%.\n",
      "That means, even with a positive test result,\n",
      "the probability of actually having Lyme disease in this case is only 44.9%.\n",
      "There's more than a 50% probability that you\n",
      "don't have the disease even though you've received a positive test result.\n",
      "And that's how conditional probabilities can\n",
      "help us get a handle on medical test results.\n"
     ]
    }
   ],
   "source": [
    "#Loop over .txt files and print the contents line by line\n",
    "for file in list(INPUT_DIR.rglob(\"*.txt*\")): #returns .txt file paths in subdirectory\n",
    "    with open(file) as f:\n",
    "        content = f.read()\n",
    "        print(content)"
   ]
  },
  {
   "cell_type": "code",
   "execution_count": null,
   "id": "7a4d8743",
   "metadata": {},
   "outputs": [],
   "source": []
  }
 ],
 "metadata": {
  "kernelspec": {
   "display_name": "Python 3 (ipykernel)",
   "language": "python",
   "name": "python3"
  },
  "language_info": {
   "codemirror_mode": {
    "name": "ipython",
    "version": 3
   },
   "file_extension": ".py",
   "mimetype": "text/x-python",
   "name": "python",
   "nbconvert_exporter": "python",
   "pygments_lexer": "ipython3",
   "version": "3.9.7"
  }
 },
 "nbformat": 4,
 "nbformat_minor": 5
}
