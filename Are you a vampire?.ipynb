{
 "cells": [
  {
   "cell_type": "code",
   "execution_count": 1,
   "id": "bd82b948",
   "metadata": {},
   "outputs": [
    {
     "name": "stdout",
     "output_type": "stream",
     "text": [
      "Your age in years:47\n",
      "ALIVE\n"
     ]
    }
   ],
   "source": [
    "#ask the user their age \n",
    "age = int(input(\"Your age in years:\"))\n",
    "if age <=0:\n",
    "    print (\"UNBORN\")\n",
    "elif age > 0 and age <=150:\n",
    "    print (\"ALIVE\")\n",
    "else:\n",
    "    print (\"VAMPIRE\")"
   ]
  }
 ],
 "metadata": {
  "kernelspec": {
   "display_name": "Python 3 (ipykernel)",
   "language": "python",
   "name": "python3"
  },
  "language_info": {
   "codemirror_mode": {
    "name": "ipython",
    "version": 3
   },
   "file_extension": ".py",
   "mimetype": "text/x-python",
   "name": "python",
   "nbconvert_exporter": "python",
   "pygments_lexer": "ipython3",
   "version": "3.9.7"
  }
 },
 "nbformat": 4,
 "nbformat_minor": 5
}
