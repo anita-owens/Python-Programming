{
 "cells": [
  {
   "cell_type": "code",
   "execution_count": null,
   "id": "e9ba0603",
   "metadata": {},
   "outputs": [],
   "source": [
    "import random"
   ]
  },
  {
   "cell_type": "code",
   "execution_count": 3,
   "id": "9b84b594",
   "metadata": {},
   "outputs": [],
   "source": [
    "class Card(object):\n",
    "    \"\"\"Represents a standard playing card.\n",
    "    \n",
    "    Attributes:\n",
    "      suit: integer 0-3\n",
    "      rank: integer 1-13\n",
    "    \"\"\"\n",
    "\n",
    "    suit_names = [\"Clubs\", \"Diamonds\", \"Hearts\", \"Spades\"]\n",
    "    rank_names = [None, \"Ace\", \"2\", \"3\", \"4\", \"5\", \"6\", \"7\", \n",
    "              \"8\", \"9\", \"10\", \"Jack\", \"Queen\", \"King\"]"
   ]
  },
  {
   "cell_type": "code",
   "execution_count": 5,
   "id": "c86cf4b9",
   "metadata": {},
   "outputs": [],
   "source": [
    "def __init__(self, suit=0, rank=2):\n",
    "        self.suit = suit\n",
    "        self.rank = rank"
   ]
  },
  {
   "cell_type": "code",
   "execution_count": 6,
   "id": "8adba2e1",
   "metadata": {},
   "outputs": [],
   "source": [
    "def __str__(self):\n",
    "        \"\"\"Returns a human-readable string representation.\"\"\"\n",
    "        return '%s of %s' % (Card.rank_names[self.rank],\n",
    "                             Card.suit_names[self.suit])"
   ]
  },
  {
   "cell_type": "code",
   "execution_count": 7,
   "id": "4cdd56d6",
   "metadata": {},
   "outputs": [],
   "source": [
    "  def __cmp__(self, other):\n",
    "        \"\"\"Compares this card to other, first by suit, then rank.\n",
    "        Returns a positive number if this > other; negative if other > this;\n",
    "        and 0 if they are equivalent.\n",
    "        \"\"\"\n",
    "        t1 = self.suit, self.rank\n",
    "        t2 = other.suit, other.rank\n",
    "        return cmp(t1, t2)"
   ]
  },
  {
   "cell_type": "code",
   "execution_count": 8,
   "id": "e3e7d5e8",
   "metadata": {},
   "outputs": [],
   "source": [
    "class Deck(object):\n",
    "    \"\"\"Represents a deck of cards.\n",
    "    Attributes:\n",
    "      cards: list of Card objects.\n",
    "    \"\"\"\n",
    "    \n",
    "    def __init__(self):\n",
    "        self.cards = []\n",
    "        for suit in range(4):\n",
    "            for rank in range(1, 14):\n",
    "                card = Card(suit, rank)\n",
    "                self.cards.append(card)\n"
   ]
  },
  {
   "cell_type": "code",
   "execution_count": null,
   "id": "f0c53f8e",
   "metadata": {},
   "outputs": [],
   "source": []
  }
 ],
 "metadata": {
  "kernelspec": {
   "display_name": "Python 3 (ipykernel)",
   "language": "python",
   "name": "python3"
  },
  "language_info": {
   "codemirror_mode": {
    "name": "ipython",
    "version": 3
   },
   "file_extension": ".py",
   "mimetype": "text/x-python",
   "name": "python",
   "nbconvert_exporter": "python",
   "pygments_lexer": "ipython3",
   "version": "3.9.7"
  }
 },
 "nbformat": 4,
 "nbformat_minor": 5
}
