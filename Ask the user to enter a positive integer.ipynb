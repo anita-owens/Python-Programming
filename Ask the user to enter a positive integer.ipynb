{
 "cells": [
  {
   "cell_type": "code",
   "execution_count": 1,
   "id": "ca033ca8",
   "metadata": {},
   "outputs": [
    {
     "name": "stdout",
     "output_type": "stream",
     "text": [
      "Input any positive integer:5\n",
      "NEITHER\n"
     ]
    }
   ],
   "source": [
    "#Write a program which asks the user to enter a positive integer 'n' (Assume that the user always enters a positive integer) and based on the following conditions\n",
    "n= int(input(\"Input any positive integer:\"))\n",
    "if n % 2 ==0 and n % 3==0:\n",
    "    print (\"BOTH\")\n",
    "elif n % 2==0 or n % 3==0:\n",
    "    print (\"ONE\")\n",
    "else: \n",
    "    print (\"NEITHER\")"
   ]
  }
 ],
 "metadata": {
  "kernelspec": {
   "display_name": "Python 3 (ipykernel)",
   "language": "python",
   "name": "python3"
  },
  "language_info": {
   "codemirror_mode": {
    "name": "ipython",
    "version": 3
   },
   "file_extension": ".py",
   "mimetype": "text/x-python",
   "name": "python",
   "nbconvert_exporter": "python",
   "pygments_lexer": "ipython3",
   "version": "3.9.7"
  }
 },
 "nbformat": 4,
 "nbformat_minor": 5
}
