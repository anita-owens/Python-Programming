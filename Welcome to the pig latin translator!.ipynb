{
 "cells": [
  {
   "cell_type": "code",
   "execution_count": 1,
   "id": "36f5ae9a",
   "metadata": {},
   "outputs": [
    {
     "name": "stdout",
     "output_type": "stream",
     "text": [
      "Write in your word in English:Hi\n",
      "iHay\n"
     ]
    }
   ],
   "source": [
    "def piglatin():\n",
    "    word = input(\"Write in your word in English:\")\n",
    "    #print word.lower()\n",
    "    #print word\n",
    "    newword = word[1:] + word[0:1] + 'ay'\n",
    "    return newword     \n",
    "print(piglatin())"
   ]
  }
 ],
 "metadata": {
  "kernelspec": {
   "display_name": "Python 3 (ipykernel)",
   "language": "python",
   "name": "python3"
  },
  "language_info": {
   "codemirror_mode": {
    "name": "ipython",
    "version": 3
   },
   "file_extension": ".py",
   "mimetype": "text/x-python",
   "name": "python",
   "nbconvert_exporter": "python",
   "pygments_lexer": "ipython3",
   "version": "3.9.7"
  }
 },
 "nbformat": 4,
 "nbformat_minor": 5
}
